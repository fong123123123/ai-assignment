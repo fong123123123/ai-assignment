{
 "cells": [
  {
   "cell_type": "code",
   "execution_count": 110,
   "id": "13dd4d03",
   "metadata": {},
   "outputs": [],
   "source": [
    "import pandas as pd\n",
    "import numpy as np\n",
    "import matplotlib.pyplot as plt\n",
    "import seaborn as sns\n",
    "from sklearn.preprocessing import StandardScaler\n",
    "from sklearn.model_selection import train_test_split\n",
    "from sklearn.svm import SVC\n",
    "import imblearn.under_sampling as samp\n",
    "from sklearn import preprocessing\n",
    "from sklearn.pipeline import make_pipeline\n",
    "from sklearn.metrics import precision_score, recall_score, f1_score, accuracy_score\n",
    "from sklearn import metrics\n",
    "from sklearn.metrics import confusion_matrix, classification_report\n",
    "\n",
    "from sklearn.model_selection import GridSearchCV\n",
    "\n",
    "# import warnings \n",
    "# warnings.filterwarnings('ignore')"
   ]
  },
  {
   "cell_type": "code",
   "execution_count": 111,
   "id": "855a90d7",
   "metadata": {
    "scrolled": true
   },
   "outputs": [
    {
     "data": {
      "text/html": [
       "<div>\n",
       "<style scoped>\n",
       "    .dataframe tbody tr th:only-of-type {\n",
       "        vertical-align: middle;\n",
       "    }\n",
       "\n",
       "    .dataframe tbody tr th {\n",
       "        vertical-align: top;\n",
       "    }\n",
       "\n",
       "    .dataframe thead th {\n",
       "        text-align: right;\n",
       "    }\n",
       "</style>\n",
       "<table border=\"1\" class=\"dataframe\">\n",
       "  <thead>\n",
       "    <tr style=\"text-align: right;\">\n",
       "      <th></th>\n",
       "      <th>Time</th>\n",
       "      <th>V1</th>\n",
       "      <th>V2</th>\n",
       "      <th>V3</th>\n",
       "      <th>V4</th>\n",
       "      <th>V5</th>\n",
       "      <th>V6</th>\n",
       "      <th>V7</th>\n",
       "      <th>V8</th>\n",
       "      <th>V9</th>\n",
       "      <th>...</th>\n",
       "      <th>V21</th>\n",
       "      <th>V22</th>\n",
       "      <th>V23</th>\n",
       "      <th>V24</th>\n",
       "      <th>V25</th>\n",
       "      <th>V26</th>\n",
       "      <th>V27</th>\n",
       "      <th>V28</th>\n",
       "      <th>Amount</th>\n",
       "      <th>Class</th>\n",
       "    </tr>\n",
       "  </thead>\n",
       "  <tbody>\n",
       "    <tr>\n",
       "      <th>0</th>\n",
       "      <td>0.0</td>\n",
       "      <td>-1.359807</td>\n",
       "      <td>-0.072781</td>\n",
       "      <td>2.536347</td>\n",
       "      <td>1.378155</td>\n",
       "      <td>-0.338321</td>\n",
       "      <td>0.462388</td>\n",
       "      <td>0.239599</td>\n",
       "      <td>0.098698</td>\n",
       "      <td>0.363787</td>\n",
       "      <td>...</td>\n",
       "      <td>-0.018307</td>\n",
       "      <td>0.277838</td>\n",
       "      <td>-0.110474</td>\n",
       "      <td>0.066928</td>\n",
       "      <td>0.128539</td>\n",
       "      <td>-0.189115</td>\n",
       "      <td>0.133558</td>\n",
       "      <td>-0.021053</td>\n",
       "      <td>149.62</td>\n",
       "      <td>0</td>\n",
       "    </tr>\n",
       "    <tr>\n",
       "      <th>1</th>\n",
       "      <td>0.0</td>\n",
       "      <td>1.191857</td>\n",
       "      <td>0.266151</td>\n",
       "      <td>0.166480</td>\n",
       "      <td>0.448154</td>\n",
       "      <td>0.060018</td>\n",
       "      <td>-0.082361</td>\n",
       "      <td>-0.078803</td>\n",
       "      <td>0.085102</td>\n",
       "      <td>-0.255425</td>\n",
       "      <td>...</td>\n",
       "      <td>-0.225775</td>\n",
       "      <td>-0.638672</td>\n",
       "      <td>0.101288</td>\n",
       "      <td>-0.339846</td>\n",
       "      <td>0.167170</td>\n",
       "      <td>0.125895</td>\n",
       "      <td>-0.008983</td>\n",
       "      <td>0.014724</td>\n",
       "      <td>2.69</td>\n",
       "      <td>0</td>\n",
       "    </tr>\n",
       "    <tr>\n",
       "      <th>2</th>\n",
       "      <td>1.0</td>\n",
       "      <td>-1.358354</td>\n",
       "      <td>-1.340163</td>\n",
       "      <td>1.773209</td>\n",
       "      <td>0.379780</td>\n",
       "      <td>-0.503198</td>\n",
       "      <td>1.800499</td>\n",
       "      <td>0.791461</td>\n",
       "      <td>0.247676</td>\n",
       "      <td>-1.514654</td>\n",
       "      <td>...</td>\n",
       "      <td>0.247998</td>\n",
       "      <td>0.771679</td>\n",
       "      <td>0.909412</td>\n",
       "      <td>-0.689281</td>\n",
       "      <td>-0.327642</td>\n",
       "      <td>-0.139097</td>\n",
       "      <td>-0.055353</td>\n",
       "      <td>-0.059752</td>\n",
       "      <td>378.66</td>\n",
       "      <td>0</td>\n",
       "    </tr>\n",
       "    <tr>\n",
       "      <th>3</th>\n",
       "      <td>1.0</td>\n",
       "      <td>-0.966272</td>\n",
       "      <td>-0.185226</td>\n",
       "      <td>1.792993</td>\n",
       "      <td>-0.863291</td>\n",
       "      <td>-0.010309</td>\n",
       "      <td>1.247203</td>\n",
       "      <td>0.237609</td>\n",
       "      <td>0.377436</td>\n",
       "      <td>-1.387024</td>\n",
       "      <td>...</td>\n",
       "      <td>-0.108300</td>\n",
       "      <td>0.005274</td>\n",
       "      <td>-0.190321</td>\n",
       "      <td>-1.175575</td>\n",
       "      <td>0.647376</td>\n",
       "      <td>-0.221929</td>\n",
       "      <td>0.062723</td>\n",
       "      <td>0.061458</td>\n",
       "      <td>123.50</td>\n",
       "      <td>0</td>\n",
       "    </tr>\n",
       "    <tr>\n",
       "      <th>4</th>\n",
       "      <td>2.0</td>\n",
       "      <td>-1.158233</td>\n",
       "      <td>0.877737</td>\n",
       "      <td>1.548718</td>\n",
       "      <td>0.403034</td>\n",
       "      <td>-0.407193</td>\n",
       "      <td>0.095921</td>\n",
       "      <td>0.592941</td>\n",
       "      <td>-0.270533</td>\n",
       "      <td>0.817739</td>\n",
       "      <td>...</td>\n",
       "      <td>-0.009431</td>\n",
       "      <td>0.798278</td>\n",
       "      <td>-0.137458</td>\n",
       "      <td>0.141267</td>\n",
       "      <td>-0.206010</td>\n",
       "      <td>0.502292</td>\n",
       "      <td>0.219422</td>\n",
       "      <td>0.215153</td>\n",
       "      <td>69.99</td>\n",
       "      <td>0</td>\n",
       "    </tr>\n",
       "  </tbody>\n",
       "</table>\n",
       "<p>5 rows × 31 columns</p>\n",
       "</div>"
      ],
      "text/plain": [
       "   Time        V1        V2        V3        V4        V5        V6        V7  \\\n",
       "0   0.0 -1.359807 -0.072781  2.536347  1.378155 -0.338321  0.462388  0.239599   \n",
       "1   0.0  1.191857  0.266151  0.166480  0.448154  0.060018 -0.082361 -0.078803   \n",
       "2   1.0 -1.358354 -1.340163  1.773209  0.379780 -0.503198  1.800499  0.791461   \n",
       "3   1.0 -0.966272 -0.185226  1.792993 -0.863291 -0.010309  1.247203  0.237609   \n",
       "4   2.0 -1.158233  0.877737  1.548718  0.403034 -0.407193  0.095921  0.592941   \n",
       "\n",
       "         V8        V9  ...       V21       V22       V23       V24       V25  \\\n",
       "0  0.098698  0.363787  ... -0.018307  0.277838 -0.110474  0.066928  0.128539   \n",
       "1  0.085102 -0.255425  ... -0.225775 -0.638672  0.101288 -0.339846  0.167170   \n",
       "2  0.247676 -1.514654  ...  0.247998  0.771679  0.909412 -0.689281 -0.327642   \n",
       "3  0.377436 -1.387024  ... -0.108300  0.005274 -0.190321 -1.175575  0.647376   \n",
       "4 -0.270533  0.817739  ... -0.009431  0.798278 -0.137458  0.141267 -0.206010   \n",
       "\n",
       "        V26       V27       V28  Amount  Class  \n",
       "0 -0.189115  0.133558 -0.021053  149.62      0  \n",
       "1  0.125895 -0.008983  0.014724    2.69      0  \n",
       "2 -0.139097 -0.055353 -0.059752  378.66      0  \n",
       "3 -0.221929  0.062723  0.061458  123.50      0  \n",
       "4  0.502292  0.219422  0.215153   69.99      0  \n",
       "\n",
       "[5 rows x 31 columns]"
      ]
     },
     "execution_count": 111,
     "metadata": {},
     "output_type": "execute_result"
    }
   ],
   "source": [
    "df = pd.read_csv('creditcard.csv')\n",
    "\n",
    "df.head()\n"
   ]
  },
  {
   "cell_type": "code",
   "execution_count": 112,
   "id": "71f5b3e4",
   "metadata": {},
   "outputs": [
    {
     "data": {
      "text/plain": [
       "<bound method NDFrame.describe of             Time         V1         V2        V3        V4        V5  \\\n",
       "0            0.0  -1.359807  -0.072781  2.536347  1.378155 -0.338321   \n",
       "1            0.0   1.191857   0.266151  0.166480  0.448154  0.060018   \n",
       "2            1.0  -1.358354  -1.340163  1.773209  0.379780 -0.503198   \n",
       "3            1.0  -0.966272  -0.185226  1.792993 -0.863291 -0.010309   \n",
       "4            2.0  -1.158233   0.877737  1.548718  0.403034 -0.407193   \n",
       "...          ...        ...        ...       ...       ...       ...   \n",
       "284802  172786.0 -11.881118  10.071785 -9.834783 -2.066656 -5.364473   \n",
       "284803  172787.0  -0.732789  -0.055080  2.035030 -0.738589  0.868229   \n",
       "284804  172788.0   1.919565  -0.301254 -3.249640 -0.557828  2.630515   \n",
       "284805  172788.0  -0.240440   0.530483  0.702510  0.689799 -0.377961   \n",
       "284806  172792.0  -0.533413  -0.189733  0.703337 -0.506271 -0.012546   \n",
       "\n",
       "              V6        V7        V8        V9  ...       V21       V22  \\\n",
       "0       0.462388  0.239599  0.098698  0.363787  ... -0.018307  0.277838   \n",
       "1      -0.082361 -0.078803  0.085102 -0.255425  ... -0.225775 -0.638672   \n",
       "2       1.800499  0.791461  0.247676 -1.514654  ...  0.247998  0.771679   \n",
       "3       1.247203  0.237609  0.377436 -1.387024  ... -0.108300  0.005274   \n",
       "4       0.095921  0.592941 -0.270533  0.817739  ... -0.009431  0.798278   \n",
       "...          ...       ...       ...       ...  ...       ...       ...   \n",
       "284802 -2.606837 -4.918215  7.305334  1.914428  ...  0.213454  0.111864   \n",
       "284803  1.058415  0.024330  0.294869  0.584800  ...  0.214205  0.924384   \n",
       "284804  3.031260 -0.296827  0.708417  0.432454  ...  0.232045  0.578229   \n",
       "284805  0.623708 -0.686180  0.679145  0.392087  ...  0.265245  0.800049   \n",
       "284806 -0.649617  1.577006 -0.414650  0.486180  ...  0.261057  0.643078   \n",
       "\n",
       "             V23       V24       V25       V26       V27       V28  Amount  \\\n",
       "0      -0.110474  0.066928  0.128539 -0.189115  0.133558 -0.021053  149.62   \n",
       "1       0.101288 -0.339846  0.167170  0.125895 -0.008983  0.014724    2.69   \n",
       "2       0.909412 -0.689281 -0.327642 -0.139097 -0.055353 -0.059752  378.66   \n",
       "3      -0.190321 -1.175575  0.647376 -0.221929  0.062723  0.061458  123.50   \n",
       "4      -0.137458  0.141267 -0.206010  0.502292  0.219422  0.215153   69.99   \n",
       "...          ...       ...       ...       ...       ...       ...     ...   \n",
       "284802  1.014480 -0.509348  1.436807  0.250034  0.943651  0.823731    0.77   \n",
       "284803  0.012463 -1.016226 -0.606624 -0.395255  0.068472 -0.053527   24.79   \n",
       "284804 -0.037501  0.640134  0.265745 -0.087371  0.004455 -0.026561   67.88   \n",
       "284805 -0.163298  0.123205 -0.569159  0.546668  0.108821  0.104533   10.00   \n",
       "284806  0.376777  0.008797 -0.473649 -0.818267 -0.002415  0.013649  217.00   \n",
       "\n",
       "        Class  \n",
       "0           0  \n",
       "1           0  \n",
       "2           0  \n",
       "3           0  \n",
       "4           0  \n",
       "...       ...  \n",
       "284802      0  \n",
       "284803      0  \n",
       "284804      0  \n",
       "284805      0  \n",
       "284806      0  \n",
       "\n",
       "[284807 rows x 31 columns]>"
      ]
     },
     "execution_count": 112,
     "metadata": {},
     "output_type": "execute_result"
    }
   ],
   "source": [
    "df.describe"
   ]
  },
  {
   "cell_type": "code",
   "execution_count": 113,
   "id": "0d65abcc",
   "metadata": {
    "scrolled": true
   },
   "outputs": [
    {
     "data": {
      "text/plain": [
       "Time      0\n",
       "V1        0\n",
       "V2        0\n",
       "V3        0\n",
       "V4        0\n",
       "V5        0\n",
       "V6        0\n",
       "V7        0\n",
       "V8        0\n",
       "V9        0\n",
       "V10       0\n",
       "V11       0\n",
       "V12       0\n",
       "V13       0\n",
       "V14       0\n",
       "V15       0\n",
       "V16       0\n",
       "V17       0\n",
       "V18       0\n",
       "V19       0\n",
       "V20       0\n",
       "V21       0\n",
       "V22       0\n",
       "V23       0\n",
       "V24       0\n",
       "V25       0\n",
       "V26       0\n",
       "V27       0\n",
       "V28       0\n",
       "Amount    0\n",
       "Class     0\n",
       "dtype: int64"
      ]
     },
     "execution_count": 113,
     "metadata": {},
     "output_type": "execute_result"
    }
   ],
   "source": [
    "df.isnull().sum() #find missing value"
   ]
  },
  {
   "cell_type": "code",
   "execution_count": 114,
   "id": "2ed71c6b",
   "metadata": {},
   "outputs": [
    {
     "data": {
      "text/plain": [
       "1081"
      ]
     },
     "execution_count": 114,
     "metadata": {},
     "output_type": "execute_result"
    }
   ],
   "source": [
    "#check duplicate\n",
    "df.duplicated().sum()"
   ]
  },
  {
   "cell_type": "code",
   "execution_count": 115,
   "id": "68429ca9",
   "metadata": {},
   "outputs": [],
   "source": [
    "# remove duplicate\n",
    "df = df.drop_duplicates()\n",
    "\n",
    "#  reset the index \n",
    "df = df.reset_index(drop=True)"
   ]
  },
  {
   "cell_type": "code",
   "execution_count": 116,
   "id": "c01fb3ff",
   "metadata": {},
   "outputs": [
    {
     "name": "stdout",
     "output_type": "stream",
     "text": [
      "The number of fraud transactions are 473\n",
      "The number of safe transactions are 283253\n"
     ]
    }
   ],
   "source": [
    "fraud = df[df['Class'] == 1]\n",
    "safe = df[df['Class'] == 0]\n",
    "print('The number of fraud transactions are {}'.format(fraud.shape[0]))\n",
    "print('The number of safe transactions are {}'.format(safe.shape[0]))"
   ]
  },
  {
   "cell_type": "code",
   "execution_count": 117,
   "id": "48e2543c",
   "metadata": {},
   "outputs": [
    {
     "data": {
      "image/png": "[encoded data removed]",
      "text/plain": [
       "<Figure size 640x480 with 1 Axes>"
      ]
     },
     "metadata": {},
     "output_type": "display_data"
    }
   ],
   "source": [
    "plt.pie(df['Class'].value_counts().values, labels=[0, 1], autopct = '%1.1f%%')\n",
    "plt.show()"
   ]
  },
  {
   "cell_type": "markdown",
   "id": "41127829",
   "metadata": {},
   "source": [
    "# Spilt Data"
   ]
  },
  {
   "cell_type": "code",
   "execution_count": 118,
   "id": "aecfa543",
   "metadata": {},
   "outputs": [],
   "source": [
    "inputs = df.drop(\"Class\", axis=\"columns\")\n",
    "targets = df.Class\n",
    "X_train, X_test, y_train, y_test = train_test_split(inputs, targets, test_size=0.2, random_state=1)"
   ]
  },
  {
   "cell_type": "markdown",
   "id": "dd2e91e2",
   "metadata": {},
   "source": [
    "# Undersampling Data (Balancing the data)"
   ]
  },
  {
   "cell_type": "code",
   "execution_count": 119,
   "id": "1a13df62",
   "metadata": {},
   "outputs": [
    {
     "data": {
      "text/html": [
       "<div>\n",
       "<style scoped>\n",
       "    .dataframe tbody tr th:only-of-type {\n",
       "        vertical-align: middle;\n",
       "    }\n",
       "\n",
       "    .dataframe tbody tr th {\n",
       "        vertical-align: top;\n",
       "    }\n",
       "\n",
       "    .dataframe thead th {\n",
       "        text-align: right;\n",
       "    }\n",
       "</style>\n",
       "<table border=\"1\" class=\"dataframe\">\n",
       "  <thead>\n",
       "    <tr style=\"text-align: right;\">\n",
       "      <th></th>\n",
       "      <th>Time</th>\n",
       "      <th>V1</th>\n",
       "      <th>V2</th>\n",
       "      <th>V3</th>\n",
       "      <th>V4</th>\n",
       "      <th>V5</th>\n",
       "      <th>V6</th>\n",
       "      <th>V7</th>\n",
       "      <th>V8</th>\n",
       "      <th>V9</th>\n",
       "      <th>...</th>\n",
       "      <th>V21</th>\n",
       "      <th>V22</th>\n",
       "      <th>V23</th>\n",
       "      <th>V24</th>\n",
       "      <th>V25</th>\n",
       "      <th>V26</th>\n",
       "      <th>V27</th>\n",
       "      <th>V28</th>\n",
       "      <th>Amount</th>\n",
       "      <th>Class</th>\n",
       "    </tr>\n",
       "  </thead>\n",
       "  <tbody>\n",
       "    <tr>\n",
       "      <th>119217</th>\n",
       "      <td>75543.0</td>\n",
       "      <td>1.258753</td>\n",
       "      <td>0.410618</td>\n",
       "      <td>0.320152</td>\n",
       "      <td>0.684369</td>\n",
       "      <td>-0.302158</td>\n",
       "      <td>-1.052837</td>\n",
       "      <td>0.135943</td>\n",
       "      <td>-0.245450</td>\n",
       "      <td>-0.079398</td>\n",
       "      <td>...</td>\n",
       "      <td>-0.279909</td>\n",
       "      <td>-0.769717</td>\n",
       "      <td>0.120485</td>\n",
       "      <td>0.360089</td>\n",
       "      <td>0.242211</td>\n",
       "      <td>0.092345</td>\n",
       "      <td>-0.018079</td>\n",
       "      <td>0.032224</td>\n",
       "      <td>0.99</td>\n",
       "      <td>0</td>\n",
       "    </tr>\n",
       "    <tr>\n",
       "      <th>116525</th>\n",
       "      <td>74500.0</td>\n",
       "      <td>-0.508246</td>\n",
       "      <td>0.953768</td>\n",
       "      <td>1.945405</td>\n",
       "      <td>1.278515</td>\n",
       "      <td>0.727194</td>\n",
       "      <td>0.650986</td>\n",
       "      <td>0.850253</td>\n",
       "      <td>0.087816</td>\n",
       "      <td>-0.785131</td>\n",
       "      <td>...</td>\n",
       "      <td>-0.251039</td>\n",
       "      <td>-0.594007</td>\n",
       "      <td>-0.214867</td>\n",
       "      <td>-0.562136</td>\n",
       "      <td>-0.103722</td>\n",
       "      <td>-0.344811</td>\n",
       "      <td>-0.081520</td>\n",
       "      <td>-0.115520</td>\n",
       "      <td>15.13</td>\n",
       "      <td>0</td>\n",
       "    </tr>\n",
       "    <tr>\n",
       "      <th>69864</th>\n",
       "      <td>53724.0</td>\n",
       "      <td>-1.542715</td>\n",
       "      <td>-0.215242</td>\n",
       "      <td>0.471353</td>\n",
       "      <td>-1.144273</td>\n",
       "      <td>-1.647514</td>\n",
       "      <td>0.372759</td>\n",
       "      <td>1.524489</td>\n",
       "      <td>0.282736</td>\n",
       "      <td>0.490575</td>\n",
       "      <td>...</td>\n",
       "      <td>-0.018600</td>\n",
       "      <td>0.248013</td>\n",
       "      <td>0.715797</td>\n",
       "      <td>0.227350</td>\n",
       "      <td>-0.165649</td>\n",
       "      <td>-0.892015</td>\n",
       "      <td>0.172093</td>\n",
       "      <td>-0.054318</td>\n",
       "      <td>372.00</td>\n",
       "      <td>0</td>\n",
       "    </tr>\n",
       "    <tr>\n",
       "      <th>252308</th>\n",
       "      <td>156160.0</td>\n",
       "      <td>-0.461005</td>\n",
       "      <td>1.201695</td>\n",
       "      <td>-0.546995</td>\n",
       "      <td>-0.141001</td>\n",
       "      <td>1.161647</td>\n",
       "      <td>-1.247469</td>\n",
       "      <td>1.198590</td>\n",
       "      <td>-0.196431</td>\n",
       "      <td>-0.094927</td>\n",
       "      <td>...</td>\n",
       "      <td>0.064271</td>\n",
       "      <td>0.518226</td>\n",
       "      <td>-0.308891</td>\n",
       "      <td>-0.214334</td>\n",
       "      <td>0.000800</td>\n",
       "      <td>0.682672</td>\n",
       "      <td>0.370939</td>\n",
       "      <td>0.279879</td>\n",
       "      <td>29.56</td>\n",
       "      <td>0</td>\n",
       "    </tr>\n",
       "    <tr>\n",
       "      <th>173230</th>\n",
       "      <td>121682.0</td>\n",
       "      <td>-0.611755</td>\n",
       "      <td>-0.040696</td>\n",
       "      <td>1.268579</td>\n",
       "      <td>-2.337830</td>\n",
       "      <td>-0.735626</td>\n",
       "      <td>-0.243574</td>\n",
       "      <td>-0.610165</td>\n",
       "      <td>0.232838</td>\n",
       "      <td>2.130750</td>\n",
       "      <td>...</td>\n",
       "      <td>0.374339</td>\n",
       "      <td>1.306309</td>\n",
       "      <td>-0.150954</td>\n",
       "      <td>-0.307128</td>\n",
       "      <td>-1.080879</td>\n",
       "      <td>-0.253046</td>\n",
       "      <td>0.172855</td>\n",
       "      <td>0.283958</td>\n",
       "      <td>9.99</td>\n",
       "      <td>0</td>\n",
       "    </tr>\n",
       "  </tbody>\n",
       "</table>\n",
       "<p>5 rows × 31 columns</p>\n",
       "</div>"
      ],
      "text/plain": [
       "            Time        V1        V2        V3        V4        V5        V6  \\\n",
       "119217   75543.0  1.258753  0.410618  0.320152  0.684369 -0.302158 -1.052837   \n",
       "116525   74500.0 -0.508246  0.953768  1.945405  1.278515  0.727194  0.650986   \n",
       "69864    53724.0 -1.542715 -0.215242  0.471353 -1.144273 -1.647514  0.372759   \n",
       "252308  156160.0 -0.461005  1.201695 -0.546995 -0.141001  1.161647 -1.247469   \n",
       "173230  121682.0 -0.611755 -0.040696  1.268579 -2.337830 -0.735626 -0.243574   \n",
       "\n",
       "              V7        V8        V9  ...       V21       V22       V23  \\\n",
       "119217  0.135943 -0.245450 -0.079398  ... -0.279909 -0.769717  0.120485   \n",
       "116525  0.850253  0.087816 -0.785131  ... -0.251039 -0.594007 -0.214867   \n",
       "69864   1.524489  0.282736  0.490575  ... -0.018600  0.248013  0.715797   \n",
       "252308  1.198590 -0.196431 -0.094927  ...  0.064271  0.518226 -0.308891   \n",
       "173230 -0.610165  0.232838  2.130750  ...  0.374339  1.306309 -0.150954   \n",
       "\n",
       "             V24       V25       V26       V27       V28  Amount  Class  \n",
       "119217  0.360089  0.242211  0.092345 -0.018079  0.032224    0.99      0  \n",
       "116525 -0.562136 -0.103722 -0.344811 -0.081520 -0.115520   15.13      0  \n",
       "69864   0.227350 -0.165649 -0.892015  0.172093 -0.054318  372.00      0  \n",
       "252308 -0.214334  0.000800  0.682672  0.370939  0.279879   29.56      0  \n",
       "173230 -0.307128 -1.080879 -0.253046  0.172855  0.283958    9.99      0  \n",
       "\n",
       "[5 rows x 31 columns]"
      ]
     },
     "execution_count": 119,
     "metadata": {},
     "output_type": "execute_result"
    }
   ],
   "source": [
    "train_data = pd.concat([X_train, y_train], axis=1)\n",
    "train_data.head()"
   ]
  },
  {
   "cell_type": "code",
   "execution_count": 120,
   "id": "5df18e8e",
   "metadata": {},
   "outputs": [],
   "source": [
    "legit_train = train_data[train_data.Class == 0]\n",
    "fraud_train = train_data[train_data.Class == 1]"
   ]
  },
  {
   "cell_type": "code",
   "execution_count": 121,
   "id": "0585e628",
   "metadata": {
    "scrolled": true
   },
   "outputs": [
    {
     "name": "stdout",
     "output_type": "stream",
     "text": [
      "(226594, 31) (386, 31)\n"
     ]
    }
   ],
   "source": [
    "print(legit_train.shape, fraud_train.shape)"
   ]
  },
  {
   "cell_type": "code",
   "execution_count": 122,
   "id": "1ef7e378",
   "metadata": {},
   "outputs": [
    {
     "data": {
      "text/plain": [
       "(579, 31)"
      ]
     },
     "execution_count": 122,
     "metadata": {},
     "output_type": "execute_result"
    }
   ],
   "source": [
    "legit_train = legit_train.sample(n=579)\n",
    "legit_train.shape"
   ]
  },
  {
   "cell_type": "code",
   "execution_count": 123,
   "id": "342e1cc1",
   "metadata": {},
   "outputs": [
    {
     "data": {
      "text/plain": [
       "(965, 31)"
      ]
     },
     "execution_count": 123,
     "metadata": {},
     "output_type": "execute_result"
    }
   ],
   "source": [
    "train_data = pd.concat([legit_train, fraud_train], axis=0)\n",
    "train_data.shape"
   ]
  },
  {
   "cell_type": "code",
   "execution_count": 124,
   "id": "bdcbf9ca",
   "metadata": {},
   "outputs": [],
   "source": [
    "x_train_undersampled = train_data.drop('Class', axis='columns')\n",
    "y_train_undersampled = train_data.Class"
   ]
  },
  {
   "cell_type": "code",
   "execution_count": 125,
   "id": "e8e7859a",
   "metadata": {
    "scrolled": true
   },
   "outputs": [
    {
     "data": {
      "image/png": "[encoded data removed]",
      "text/plain": [
       "<Figure size 640x480 with 1 Axes>"
      ]
     },
     "metadata": {},
     "output_type": "display_data"
    }
   ],
   "source": [
    "# show the data after undersampling\n",
    "plt.pie(y_train_undersampled.value_counts().values, labels=[0, 1], autopct='%1.1f%%')\n",
    "plt.title(\"Distribution of Target Variable\")\n",
    "plt.show()"
   ]
  },
  {
   "cell_type": "markdown",
   "id": "6f2559a5",
   "metadata": {},
   "source": [
    "# Support Vector Machine"
   ]
  },
  {
   "cell_type": "code",
   "execution_count": 126,
   "id": "f2742d7c",
   "metadata": {},
   "outputs": [
    {
     "name": "stdout",
     "output_type": "stream",
     "text": [
      "              precision    recall  f1-score   support\n",
      "\n",
      "           0       1.00      0.98      0.99     56659\n",
      "           1       0.05      0.83      0.09        87\n",
      "\n",
      "    accuracy                           0.97     56746\n",
      "   macro avg       0.52      0.90      0.54     56746\n",
      "weighted avg       1.00      0.97      0.99     56746\n",
      "\n",
      "Accuracy: 97.49%\n",
      "Precision: 4.86%\n",
      "Recall: 82.76%\n",
      "F1-score: 9.19%\n"
     ]
    }
   ],
   "source": [
    "#svm_model = SVC(kernel='linear', class_weight='balanced')\n",
    "svm_model = make_pipeline(StandardScaler(), SVC(random_state=1))\n",
    "# svm_model.fit(x_train, y_train)\n",
    "svm_model.fit(x_train_undersampled, y_train_undersampled)\n",
    "# Make predictions on the testing set\n",
    "y_pred_svm = svm_model.predict(X_test)\n",
    "\n",
    "print(classification_report(y_test,y_pred_svm))\n",
    "svc_pre = precision_score(y_test, y_pred_svm) * 100\n",
    "svc_rec = recall_score(y_test, y_pred_svm)* 100\n",
    "svc_f1 = f1_score(y_test, y_pred_svm)* 100\n",
    "\n",
    "accuracy = accuracy_score(y_test, y_pred_svm) * 100\n",
    "print(f'Accuracy: {accuracy:.2f}%')\n",
    "print(f'Precision: {svc_pre:.2f}%')\n",
    "print(f'Recall: {svc_rec:.2f}%')\n",
    "print(f'F1-score: {svc_f1:.2f}%')"
   ]
  },
  {
   "cell_type": "code",
   "execution_count": 127,
   "id": "bad38155",
   "metadata": {},
   "outputs": [
    {
     "data": {
      "image/png": "[encoded data removed]",
      "text/plain": [
       "<Figure size 800x600 with 2 Axes>"
      ]
     },
     "metadata": {},
     "output_type": "display_data"
    }
   ],
   "source": [
    "# Calculate the confusion matrix\n",
    "cm = confusion_matrix(y_test, y_pred_svm)\n",
    "\n",
    "# Plot the confusion matrix as a heatmap\n",
    "plt.figure(figsize=(8, 6))\n",
    "sns.heatmap(cm, annot=True, fmt='d', cmap='mako')\n",
    "plt.xlabel('Predicted Labels')\n",
    "plt.ylabel('True Labels')\n",
    "plt.title('Confusion Matrix')\n",
    "plt.show()"
   ]
  },
  {
   "cell_type": "code",
   "execution_count": 128,
   "id": "feb2b7ac",
   "metadata": {},
   "outputs": [
    {
     "name": "stdout",
     "output_type": "stream",
     "text": [
      "Accuracy Score : 71.283%\n"
     ]
    }
   ],
   "source": [
    "from sklearn.neighbors import KNeighborsClassifier\n",
    "\n",
    "# consider the labels of the 5 nearest data points to a given input when making a prediction.\n",
    "knn = KNeighborsClassifier(n_neighbors = 1) \n",
    "\n",
    "# Fit model to data\n",
    "knn.fit(x_train_undersampled, y_train_undersampled)\n",
    "\n",
    "# Predict on new data\n",
    "X_test = np.array(X_test)\n",
    "knn_pred = knn.predict(X_test)\n",
    "\n",
    "# Evaluate performance\n",
    "knn_accuracyScore = (accuracy_score(y_test, knn_pred)) * 100\n",
    "print('Accuracy Score : {:.3f}%'.format(knn_accuracyScore))"
   ]
  },
  {
   "cell_type": "code",
   "execution_count": 129,
   "id": "3bbeea90",
   "metadata": {},
   "outputs": [
    {
     "data": {
      "image/png": "[encoded data removed]",
      "text/plain": [
       "<Figure size 640x480 with 1 Axes>"
      ]
     },
     "metadata": {},
     "output_type": "display_data"
    }
   ],
   "source": [
    "# Try different values of k for KNN\n",
    "k_values = range(1, 10)  \n",
    "\n",
    "accuracies = []\n",
    "\n",
    "for k in k_values:\n",
    "    knn = KNeighborsClassifier(n_neighbors=k)\n",
    "    knn.fit(x_train_undersampled, y_train_undersampled)\n",
    "    y_pred = knn.predict(X_test)\n",
    "    accuracy = (accuracy_score(y_test, y_pred)) * 100\n",
    "    accuracies.append(accuracy)\n",
    "\n",
    "# Create a bar chart to compare accuracies for different k values\n",
    "plt.bar(k_values, accuracies)\n",
    "plt.xlabel('Number of Neighbors (k)')\n",
    "plt.ylabel('Accuracy (%)')\n",
    "plt.title('Accuracy for Different Values of k in KNN')\n",
    "\n",
    "# Add the numeric values on top of each bar\n",
    "for i, v in enumerate(accuracies):\n",
    "    plt.text(i + 1, v + 0.01, f'{v:.2f}', ha='center', va='bottom', fontsize=9)\n",
    "    \n",
    "plt.show()\n"
   ]
  },
  {
   "cell_type": "code",
   "execution_count": 130,
   "id": "ac5685b1",
   "metadata": {},
   "outputs": [
    {
     "data": {
      "image/png": "[encoded data removed]",
      "text/plain": [
       "<Figure size 800x600 with 2 Axes>"
      ]
     },
     "metadata": {},
     "output_type": "display_data"
    }
   ],
   "source": [
    "cm = confusion_matrix(y_test, knn_pred)\n",
    "\n",
    "# show the heatmap\n",
    "plt.figure(figsize=(8, 6))\n",
    "sns.heatmap(cm, annot=True, fmt=\"d\", cmap=\"YlGnBu\",\n",
    "            xticklabels=[\"Predicted 0\", \"Predicted 1\"],\n",
    "            yticklabels=[\"True 0\", \"True 1\"])\n",
    "plt.xlabel(\"Predicted\")\n",
    "plt.ylabel(\"True\")\n",
    "plt.title(\"Confusion Matrix\")\n",
    "plt.show()"
   ]
  },
  {
   "cell_type": "code",
   "execution_count": null,
   "id": "9db624aa",
   "metadata": {},
   "outputs": [],
   "source": []
  }
 ],
 "metadata": {
  "kernelspec": {
   "display_name": "Python 3 (ipykernel)",
   "language": "python",
   "name": "python3"
  },
  "language_info": {
   "codemirror_mode": {
    "name": "ipython",
    "version": 3
   },
   "file_extension": ".py",
   "mimetype": "text/x-python",
   "name": "python",
   "nbconvert_exporter": "python",
   "pygments_lexer": "ipython3",
   "version": "3.10.9"
  }
 },
 "nbformat": 4,
 "nbformat_minor": 5
}
