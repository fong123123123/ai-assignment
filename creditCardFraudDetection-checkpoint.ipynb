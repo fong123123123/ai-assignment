{
 "cells": [
  {
   "cell_type": "markdown",
   "id": "eea809c3",
   "metadata": {},
   "source": [
    "Data Manipulation\n",
    "\n",
    "Importing Dataset, \n",
    "Dataset View,\n",
    "Dataset Information,\n",
    "Summary Statistics,\n",
    "Checking for unique values in integer type attribute,\n",
    "Checking for missing values in each column,\n",
    "percentage of missing values in each column,\n"
   ]
  },
  {
   "cell_type": "code",
   "execution_count": 1,
   "id": "833ca23a",
   "metadata": {},
   "outputs": [],
   "source": [
    "#Importing nessary library\n",
    "#https://towardsdatascience.com/principal-component-analysis-pca-with-scikit-learn-1e84a0c731b0\n",
    "\n",
    "import numpy as np\n",
    "import matplotlib.pyplot as plt\n",
    "import pandas as pd\n",
    "import seaborn as sns\n",
    "import missingno as msno\n",
    "from sklearn.decomposition import PCA\n",
    "from sklearn.preprocessing import StandardScaler\n",
    "from sklearn.model_selection import train_test_split\n",
    "from sklearn.metrics import accuracy_score,f1_score,precision_score,recall_score\n",
    "from sklearn import metrics\n",
    "from sklearn.metrics import classification_report\n",
    "from sklearn.tree import DecisionTreeClassifier\n",
    "from sklearn.naive_bayes import GaussianNB\n",
    "from sklearn import svm\n",
    "from sklearn.model_selection import cross_val_score\n",
    "from sklearn import preprocessing\n",
    "\n",
    "\n",
    "def importData():\n",
    "    #Importing data\n",
    "    cc = pd.read_csv(\"creditCardTransaction.csv\")\n",
    "#     cc.drop(columns=['Time','V15','V26','V25','V13','V22','V23','V9','V5'\n",
    "#                      ,'V2','V6','V21','V19','V20','V8','V27','V28','V24']\n",
    "#                      ,axis=1,inplace=True)\n",
    "    return cc\n",
    "\n",
    "def datasetInfo(cc):\n",
    "    print(cc.head(5))\n",
    "    print(cc.info())\n",
    "    print(cc.describe())\n",
    "    print(cc.shape)\n",
    "    \n",
    "def checkUniqueAttribute(cc):\n",
    "    print(cc.Class.unique())\n",
    "    print(cc.nunique().sort_values())\n",
    "    nullValueSummary = cc.isnull().sum()\n",
    "    print(nullValueSummary)\n",
    "    \n",
    "    #Find percentage of missing values in each of the credit card column\n",
    "    pd.options.display.float_format = '{:,.2f} %'.format\n",
    "    print((nullValueSummary/len(cc))*100)\n",
    "    \n",
    "#Plot missing value \n",
    "def plotMissingValue(cc):\n",
    "    msno.matrix(cc,labels=[cc.columns],figsize=(20,15),fontsize=15)\n",
    "\n",
    "def outlierDetector(cc):#detecting the outliers\n",
    "    var=list(cc.select_dtypes(include=['float64']).columns)\n",
    "    outlierCount=0\n",
    "    totalInfo = 0\n",
    "    quater1=np.percentile(cc,25)\n",
    "    quater3=np.percentile(cc,75)\n",
    "    IQR=quater3-quater1\n",
    "    lb=quater1-(IQR*1.5)\n",
    "    ub=quater3+(IQR*1.5)\n",
    "    for i in var:\n",
    "        for j in range(0,len(cc)):\n",
    "            totalInfo = totalInfo + 1\n",
    "            if(cc[i][j]<lb or cc[i][j]>ub):\n",
    "                outlierCount = outlierCount + 1\n",
    "    return [totalInfo,outlierCount,round(np.divide(outlierCount,totalInfo)*100,2)]\n",
    "\n",
    "\n",
    "#Correlation\n",
    "def heatMapPlotting(cc):\n",
    "    correlation = cc.select_dtypes(include=['float']).corr()\n",
    "#     print(correlation)\n",
    "    plt.figure(figsize=(15,15))\n",
    "    sns.heatmap(correlation,annot=False,center = 0,cmap='YlGnBu')\n",
    "    plt.show()\n",
    "    \n",
    "def barChartPlotting(cc):\n",
    "    selectedColumn = cc.select_dtypes(include=['float64']).columns\n",
    "    plt.figure(figsize=(18, 18))\n",
    "    for x, column in enumerate(selectedColumn):\n",
    "        plt.rcParams['axes.facecolor'] = 'black'\n",
    "        ax = plt.subplot(6,5, x+1)\n",
    "        sns.barplot(data=cc, hue='day')\n",
    "    plt.suptitle('Bar Chart for Continouous Variables to relationship[Credit Card Transaction Dataset]')\n",
    "    plt.tight_layout()\n",
    "    \n",
    "def pairPlotting(cc):\n",
    "    sns.pairplot(cc[['V1','V2', 'V3', 'V4', 'V5', 'V6','V7', 'V8', 'V9', 'V10', 'V11','V12', 'V13', 'V14', 'V15', 'V16','V17', 'V18', 'V19', 'V20', 'V21','V22', 'V23', 'V24', 'V25', 'V26','V27', 'V28', 'Class']], hue='Class')\n",
    "    #plt.suptitle('Pair Plot for Continouous Variables to relationship[Credit Card Transaction Dataset]')\n",
    "\n",
    "def datasetMaxMinInfo(cc):\n",
    "    for i in cc: \n",
    "        print(\"Max : {} - {}\".format(i,round(cc[i].max(),2)))\n",
    "        print(\"Min : {} - {}\".format(i,round(cc[i].min(),2)))\n",
    "\n",
    "#Analysing targeted variables\n",
    "#Unbalance dataset\n",
    "def targetVariableAnalysis(cc):\n",
    "    targetVariable = pd.crosstab(cc[\"Class\"],columns='% ccTransaction')\n",
    "    print(\"Fraud Transaction : {}\".format(targetVariable['% ccTransaction'][1]))\n",
    "    print(\"Normal Transaction : {}\".format(targetVariable['% ccTransaction'][0]))\n",
    "    print(\"Percentage of Fraud Transaction : {}\".format(round(np.divide(targetVariable['% ccTransaction'][1],(targetVariable['% ccTransaction'][1]+targetVariable['% ccTransaction'][0]))*100,4)))\n",
    "    print(\"Percentage of Normal Transaction : {}\".format(round(np.divide(targetVariable['% ccTransaction'][0],(targetVariable['% ccTransaction'][1]+targetVariable['% ccTransaction'][0]))*100,4)))\n",
    "    plt.pie(targetVariable['% ccTransaction'],labels=targetVariable['% ccTransaction'].index) #pie chart\n",
    "    plt.title('Class')\n",
    "    plt.show()\n",
    "    sns.barplot(x=targetVariable.index,y=targetVariable['% ccTransaction']) #bar plot, imbalance in dataset\n",
    "    plt.title('Class')\n",
    "    plt.show()\n",
    "    return targetVariable['% ccTransaction'][1] + targetVariable['% ccTransaction'][0]\n",
    "\n",
    "#First of all, we note that the time has no impact on the number of scams/fruad. \n",
    "#Furthermore, most scams involve modest sums of money.\n",
    "def timeAmountComparePlot(cc):\n",
    "    ccFraud = cc[cc['Class'] == 1]\n",
    "    plt.figure(figsize=(15,10))\n",
    "    plt.scatter(ccFraud['Time'],ccFraud['Amount'])\n",
    "    plt.title(\"Scatter plot on the number of Fraud on this Credit Card Transaction Dataset\")\n",
    "    plt.xlabel(\"Time\")\n",
    "    plt.ylabel(\"Amount\")\n",
    "    plt.show()\n",
    "\n",
    "def numberBigFraud(cc):\n",
    "    ccFraud = cc[cc['Class'] == 1]\n",
    "    numBigFraud = ccFraud[ccFraud[\"Amount\"] > 1000].shape[0]\n",
    "    print(\"The number of big frauds over $1000 is only {} over 492 total frauds in the dataset\".format(numBigFraud))\n",
    "    \n",
    "def pca(cc):\n",
    "    cc = cc.drop(['Class','Time','V15','V26','V25','V13','V22','V23','V9','V5','V2','V6','V21','V19','V20','V8','V27','V28','V24'], axis=1)\n",
    "    scaler = StandardScaler()\n",
    "    scaler.fit(cc)\n",
    "    Xscaled = scaler.transform(cc)\n",
    "    pca31 = PCA(n_components=10,random_state=1234)\n",
    "    pca31.fit(Xscaled)\n",
    "    X_pca31 = pca31.transform(Xscaled)\n",
    "    print(\"Variance results explained by all 28 principal components : {}\\n\".format(round(sum(pca31.explained_variance_ratio_*100),0)))\n",
    "    print(np.cumsum(pca31.explained_variance_ratio_*100))\n",
    "    plt.plot(np.cumsum(pca31.explained_variance_ratio_))\n",
    "    plt.xlabel('X-axis : Number of Components')\n",
    "    plt.ylabel('Y-axis : Explained Variance')\n",
    "    plt.show()\n",
    "    \n",
    "    print(\"\\n\\n\")\n",
    "    print(\"The variance explained by the First Principal Componant : {}\"\n",
    "          .format(np.cumsum(pca31.explained_variance_ratio_*100)[0]))\n",
    "    \n",
    "def naiveBayes(cc):\n",
    "    cc.drop(columns=['Time','V15','V26','V25','V13','V22','V23','V9','V5'\n",
    "                     ,'V2','V6','V21','V19','V20','V8','V27','V28','V24']\n",
    "                     ,axis=1)\n",
    "    for i in cc.columns:\n",
    "        scale=StandardScaler().fit(cc[[i]])\n",
    "        cc[i]=scale.transform(cc[[i]])\n",
    "    X_cc = cc.drop(['Class'], axis=1)\n",
    "    y_cc = cc['Class']   \n",
    "    # Label encoding\n",
    "    label_encoder = preprocessing.LabelEncoder()\n",
    "    y_cc = label_encoder.fit_transform(y_cc)\n",
    "    Xtrain, Xtest, ytrain, ytest = train_test_split(X_cc, y_cc, test_size=0.2, random_state=1)\n",
    "    \n",
    "        #Naive Bayes\n",
    "    naiveBayesClassifier = GaussianNB()\n",
    "    naiveBayesClassifier.fit(Xtrain,ytrain)\n",
    "    y_prediction=naiveBayesClassifier.predict(Xtest)\n",
    "    \n",
    "    #Confusion Matrix\n",
    "    confusion_matrix1 = metrics.confusion_matrix(ytest, y_prediction)\n",
    "    cm_display = metrics.ConfusionMatrixDisplay(confusion_matrix = confusion_matrix1, \n",
    "                                                display_labels = [0,1])\n",
    "    cm_display.plot()\n",
    "    plt.show()\n",
    "\n",
    "    print(\"\\n\\nNaive Bayes Model\")\n",
    "    print(\"Model Accuracy : {} %\".format(round(accuracy_score(y_prediction,ytest)*100,2)))\n",
    "    print(\"Model Precision : {} %\".format(round(precision_score(y_prediction,ytest)*100,2)))\n",
    "    print(\"Model Recall : {} %\".format(round(recall_score(y_prediction,ytest)*100,2)))\n",
    "    print(classification_report(y_prediction,ytest,zero_division=1))\n",
    "    \n",
    "    \n",
    "def decisionTree(cc):\n",
    "    cc.drop(columns=['Time','V15','V26','V25','V13','V22','V23','V9','V5'\n",
    "                 ,'V2','V6','V21','V19','V20','V8','V27','V28','V24']\n",
    "                 ,axis=1)\n",
    "    for i in cc.columns:\n",
    "        scale=StandardScaler().fit(cc[[i]])\n",
    "        cc[i]=scale.transform(cc[[i]])\n",
    "    X_cc = cc.drop(['Class'], axis=1)\n",
    "    y_cc = cc['Class']   \n",
    "    # Label encoding\n",
    "    label_encoder = preprocessing.LabelEncoder()\n",
    "    y_cc = label_encoder.fit_transform(y_cc)\n",
    "    Xtrain, Xtest, ytrain, ytest = train_test_split(X_cc, y_cc, test_size=0.2,random_state=1)\n",
    "    \n",
    "    #Decision Tree\n",
    "    decisionTreeClassifier=DecisionTreeClassifier(criterion='entropy',random_state=1)\n",
    "    decisionTreeClassifier.fit(Xtrain,ytrain)\n",
    "    y_prediction = decisionTreeClassifier.predict(Xtest)    \n",
    "    \n",
    "    #Confusion Matrix\n",
    "    confusion_matrix2 = metrics.confusion_matrix(ytest, y_prediction)\n",
    "    cm_display = metrics.ConfusionMatrixDisplay(confusion_matrix = confusion_matrix2, \n",
    "                                                display_labels = [0,1])\n",
    "    cm_display.plot()\n",
    "    plt.show()\n",
    "    \n",
    "    print(\"\\n\\nDecision Tree\")\n",
    "    print(\"Model Accuracy : {} %\".format(round(accuracy_score(y_prediction,ytest)*100,2)))\n",
    "    print(\"Model Precision : {} %\".format(round(precision_score(y_prediction,ytest)*100,2)))\n",
    "    print(\"Model Recall : {} %\".format(round(recall_score(y_prediction,ytest)*100,2)))\n",
    "    print(classification_report(y_prediction,ytest,zero_division=1))\n",
    "\n",
    "\n",
    "def supportVectorMachine(cc): \n",
    "    cc.drop(columns=['Time','V15','V26','V25','V13','V22','V23','V9','V5'\n",
    "                 ,'V2','V6','V21','V19','V20','V8','V27','V28','V24']\n",
    "                 ,axis=1)\n",
    "    for i in cc.columns:\n",
    "        scale=StandardScaler().fit(cc[[i]])\n",
    "        cc[i]=scale.transform(cc[[i]])\n",
    "    X_cc = cc.drop(['Class'], axis=1)\n",
    "    y_cc = cc['Class']   \n",
    "    # Label encoding\n",
    "    label_encoder = preprocessing.LabelEncoder()\n",
    "    y_cc = label_encoder.fit_transform(y_cc)\n",
    "    Xtrain, Xtest, ytrain, ytest = train_test_split(X_cc, y_cc, test_size=0.2,random_state=1)\n",
    "    \n",
    "    #Train for all\n",
    "    svmClassifier = svm.SVC(kernel='linear', class_weight='balanced')\n",
    "    svmClassifier.fit(Xtrain,ytrain)\n",
    "    y_prediction = svmClassifier.predict(Xtest)\n",
    "    \n",
    "    #Confusion Matrix\n",
    "    confusion_matrix3 = metrics.confusion_matrix(ytest, y_prediction)\n",
    "    cm_display = metrics.ConfusionMatrixDisplay(confusion_matrix = confusion_matrix3, \n",
    "                                                display_labels = [0,1])\n",
    "    cm_display.plot()\n",
    "    plt.show()\n",
    "    \n",
    "    print(\"\\n\\nSupport Vector Machine\")\n",
    "    print(\"Model Accuracy : {} %\".format(round(accuracy_score(y_prediction,ytest)*100,2)))\n",
    "    print(\"Model Precision : {} %\".format(round(precision_score(y_prediction,ytest)*100,2)))\n",
    "    print(\"Model Recall : {} %\".format(round(recall_score(y_prediction,ytest)*100,2)))\n",
    "    print(classification_report(y_prediction,ytest,zero_division=1))\n",
    "\n",
    "    \n",
    "#rank correlation coefficient\n",
    "def rankCorr(cc):\n",
    "    ccCorr = cc.corr()\n",
    "    rank = ccCorr['Class'] # Retrieving the correlation coefficients per feature in relation to the feature class\n",
    "    ccRank = pd.DataFrame(rank) \n",
    "    ccRank = np.abs(ccRank).sort_values(by='Class',ascending=False) # Ranking the absolute values of the coefficients\n",
    "                                                                      # in descending order\n",
    "    ccRank.dropna(inplace=True) # Removing Missing Data (not a number)\n",
    "    print(ccRank)\n",
    "    return ccRank\n",
    "\n",
    "def main():\n",
    "    cc = importData()\n",
    "#    rankCorrelation = rankCorr(cc)\n",
    "#    timeAmountComparePlot(cc)\n",
    "#    numberBigFraud(cc)\n",
    "\n",
    "#     decisionTree(cc)\n",
    "#     naiveBayes(cc)\n",
    "#     svm = supportVectorMachine(cc)\n",
    "\n",
    "    #print(outliersCol)\n",
    "#    datasetMaxMinInfo(cc)\n",
    "    #checkUniqueAttribute(cc)\n",
    "    #plotMissingValue(cc)\n",
    "#    heatMapPlotting(cc)\n",
    " #   barChartPlotting(cc)\n",
    "#    totalTransactions = targetVariableAnalysis(cc)\n",
    "#     outlierInfo = outlierDetector(cc) #956874\n",
    "#     print(\"Total Number of data : {}\".format(outlierInfo[0]))\n",
    "#     print(\"Total Number of outliers : {}\".format(outlierInfo[1]))\n",
    "#     print(\"Percentage of outliers : {} %\".format(outlierInfo[2]))\n",
    "  #  pairPlotting(cc)\n",
    "#    pca(cc)    \n",
    "\n",
    "def deployment():\n",
    "    predict = predictionModel()\n",
    "    \n",
    "    if(predict == 1):\n",
    "        print(\"This transaction is fraudulent!\")\n",
    "    elif(predict == 0):\n",
    "        print(\"Thank God, this is a genuine transaction!!\")\n",
    "    else:\n",
    "        print(\"Sorry, an error occurred.\")"
   ]
  },
  {
   "cell_type": "code",
   "execution_count": 2,
   "id": "1021c83d",
   "metadata": {},
   "outputs": [
    {
     "data": {
      "image/png": "[encoded data removed]",
      "text/plain": [
       "<Figure size 432x288 with 2 Axes>"
      ]
     },
     "metadata": {
      "needs_background": "light"
     },
     "output_type": "display_data"
    },
    {
     "name": "stdout",
     "output_type": "stream",
     "text": [
      "\n",
      "\n",
      "Support Vector Machine\n",
      "Model Accuracy : 98.16 %\n",
      "Model Precision : 87.36 %\n",
      "Model Recall : 6.83 %\n",
      "              precision    recall  f1-score   support\n",
      "\n",
      "           0       0.98      1.00      0.99     55849\n",
      "           1       0.87      0.07      0.13      1113\n",
      "\n",
      "    accuracy                           0.98     56962\n",
      "   macro avg       0.93      0.53      0.56     56962\n",
      "weighted avg       0.98      0.98      0.97     56962\n",
      "\n"
     ]
    }
   ],
   "source": [
    "if __name__ == \"__main__\":\n",
    "    main()"
   ]
  },
  {
   "cell_type": "code",
   "execution_count": 2,
   "id": "0df730df",
   "metadata": {},
   "outputs": [
    {
     "data": {
      "image/png": "[encoded data removed]",
      "text/plain": [
       "<Figure size 432x288 with 2 Axes>"
      ]
     },
     "metadata": {
      "needs_background": "light"
     },
     "output_type": "display_data"
    },
    {
     "name": "stdout",
     "output_type": "stream",
     "text": [
      "\n",
      "\n",
      "Support Vector Machine\n",
      "Model Accuracy : 98.16 %\n",
      "Model Precision : 87.36 %\n",
      "Model Recall : 6.83 %\n"
     ]
    }
   ],
   "source": [
    "if __name__ == \"__main__\":\n",
    "    main()"
   ]
  },
  {
   "cell_type": "code",
   "execution_count": 10,
   "id": "abdc6536",
   "metadata": {},
   "outputs": [
    {
     "data": {
      "image/png": "[encoded data removed]",
      "text/plain": [
       "<Figure size 432x288 with 2 Axes>"
      ]
     },
     "metadata": {
      "needs_background": "light"
     },
     "output_type": "display_data"
    },
    {
     "name": "stdout",
     "output_type": "stream",
     "text": [
      "\n",
      "\n",
      "Decision Tree\n",
      "Model Accuracy : 99.93 %\n",
      "Model Precision : 76.58 %\n",
      "Model Recall : 77.98 %\n",
      "              precision    recall  f1-score   support\n",
      "\n",
      "           0       1.00      1.00      1.00     71093\n",
      "           1       0.77      0.78      0.77       109\n",
      "\n",
      "    accuracy                           1.00     71202\n",
      "   macro avg       0.88      0.89      0.89     71202\n",
      "weighted avg       1.00      1.00      1.00     71202\n",
      "\n"
     ]
    },
    {
     "data": {
      "image/png": "[encoded data removed]",
      "text/plain": [
       "<Figure size 432x288 with 2 Axes>"
      ]
     },
     "metadata": {
      "needs_background": "light"
     },
     "output_type": "display_data"
    },
    {
     "name": "stdout",
     "output_type": "stream",
     "text": [
      "\n",
      "\n",
      "Naive Bayes Model\n",
      "Model Accuracy : 97.86 %\n",
      "Model Precision : 76.58 %\n",
      "Model Recall : 5.38 %\n",
      "              precision    recall  f1-score   support\n",
      "\n",
      "           0       0.98      1.00      0.99     69621\n",
      "           1       0.77      0.05      0.10      1581\n",
      "\n",
      "    accuracy                           0.98     71202\n",
      "   macro avg       0.87      0.53      0.54     71202\n",
      "weighted avg       0.97      0.98      0.97     71202\n",
      "\n"
     ]
    }
   ],
   "source": [
    "if __name__ == \"__main__\":\n",
    "    main()"
   ]
  },
  {
   "cell_type": "markdown",
   "id": "10a1b8ed",
   "metadata": {},
   "source": [
    "### Deployment"
   ]
  },
  {
   "cell_type": "code",
   "execution_count": 60,
   "id": "15245e1d",
   "metadata": {},
   "outputs": [],
   "source": [
    "import ipywidgets as widgets # interactive widgets\n",
    "from ipywidgets import Box\n",
    "\n",
    "cc = pd.read_csv(\"creditCardTransaction.csv\")\n",
    "\n",
    "X_cc = cc.drop(columns=['Time','V15','V26','V25','V13','V22','V23','V9','V5'\n",
    "                 ,'V2','V6','V21','V19','V20','V8','V27','V28','V24']\n",
    "                 ,axis=1)\n",
    "y_cc = cc['Class']   \n",
    "# Label encoding\n",
    "label_encoder = preprocessing.LabelEncoder()\n",
    "y_cc = label_encoder.fit_transform(y_cc)\n",
    "decisionTreeClassifier=DecisionTreeClassifier(criterion='entropy',random_state=1)\n",
    "Xtrain, Xtest, ytrain, ytest = train_test_split(X_cc, y_cc, test_size=0.2,random_state=1)\n",
    "decisionTreeClassifier.fit(Xtrain,ytrain)\n",
    "train_df = pd.DataFrame(Xtrain)\n",
    "train_df = train_df.sample()\n",
    "train_sample = train_df.to_numpy()"
   ]
  },
  {
   "cell_type": "code",
   "execution_count": 63,
   "id": "63e9a34d",
   "metadata": {},
   "outputs": [],
   "source": [
    "distanceFromHome = [-57, 3]\n",
    "distanceFromLastTrans = [-49, 10]\n",
    "usageFreqCreditCard = [-5, 13]\n",
    "isOnlineTransaction = [-6, 17]\n",
    "pinOrWave = [-44, 121]\n",
    "repeatMerchant = [-25, 24]\n",
    "amount = [0, 25700]\n",
    "used_chip = [-19, 8]\n",
    "used_pin = [-20, 11]\n",
    "freqTransaction = [-15, 18]\n",
    "ratio_to_median_purchase = [-26, 10]\n",
    "used_chip2 = [-10, 6]\n",
    "variable_range = {\"distanceFromHome\":[-57, 3], \"distanceFromLastTrans\":[-49, 10], \"usageFreqCreditCard\":[-5, 13], \n",
    "                  \"isOnlineTransaction\":[-6, 17], \"pinOrWave\":[-44, 121], \"repeatMerchant\":[-25, 24], \"amount\":[0, 25700], \n",
    "                  \"used_chip\":[-19, 8], \"used_pin\":[-20, 11], \"freqTransaction\":[-15, 18], \"ratio_to_median_purchase\":[-26, 10], \n",
    "                  \"used_chip2\":[-10, 6]}"
   ]
  },
  {
   "cell_type": "code",
   "execution_count": 64,
   "id": "a7b89466",
   "metadata": {},
   "outputs": [
    {
     "data": {
      "application/vnd.jupyter.widget-view+json": {
       "model_id": "929e2ed9990e4a0a894061c5495dd19a",
       "version_major": 2,
       "version_minor": 0
      },
      "text/plain": [
       "Box(children=(FloatSlider(value=-3.03086839190584, continuous_update=False, description='distanceFromHome', ma…"
      ]
     },
     "metadata": {},
     "output_type": "display_data"
    }
   ],
   "source": [
    "widgets_slider = []\n",
    "header = [\"distanceFromHome\", \"distanceFromLastTrans\", \"usageFreqCreditCard\", \"isOnlineTransaction\", \n",
    "          \"pinOrWave\", \"repeatMerchant\", \"amount\", \"used_chip\", \"used_pin\", \"freqTransaction\", \"ratio_to_median_purchase\", \n",
    "          \"used_chip2\"]\n",
    "temp_sample = train_df.iloc[0]\n",
    "for feature in range(12):\n",
    "    temp_widget = widgets.FloatSlider(value = temp_sample[feature],\n",
    "    min=variable_range[header[feature]][0],\n",
    "    max=variable_range[header[feature]][1],\n",
    "    step=0.1,\n",
    "    description=header[feature],\n",
    "    disabled=False,\n",
    "    continuous_update=False,\n",
    "    orientation='vertical',\n",
    "    readout=True,\n",
    "    readout_format='.1f',\n",
    "    )\n",
    "    widgets_slider.append(temp_widget)\n",
    "box=Box(children=widgets_slider)\n",
    "display(box)"
   ]
  },
  {
   "cell_type": "code",
   "execution_count": 56,
   "id": "ae51e2a4",
   "metadata": {},
   "outputs": [
    {
     "data": {
      "text/plain": [
       "['bestModel']"
      ]
     },
     "execution_count": 56,
     "metadata": {},
     "output_type": "execute_result"
    }
   ],
   "source": [
    "import joblib\n",
    "joblib.dump(decisionTreeClassifier, 'bestModel')"
   ]
  },
  {
   "cell_type": "code",
   "execution_count": null,
   "id": "b4d9ba36",
   "metadata": {
    "scrolled": true
   },
   "outputs": [],
   "source": [
    "\n",
    "def predictionModel():\n",
    "    for feature in range(12):\n",
    "        temp_sample[feature]=widgets_slider[feature].value\n",
    "        print(temp_sample[feature])\n",
    "        scale=StandardScaler().fit(temp_sample[feature].reshape(1,-1))\n",
    "        temp_sample[feature]=scale.transform(temp_sample[feature].reshape(1,-1))\n",
    "    dt = joblib.load('bestModel')\n",
    "    temp_Sample=temp_sample.values.reshape(1, 13)\n",
    "    prediction = dt.predict(temp_Sample)\n",
    "    return prediction\n",
    "\n",
    "if __name__ == \"__main__\":\n",
    "    deployment()"
   ]
  },
  {
   "cell_type": "code",
   "execution_count": null,
   "id": "3b16358c",
   "metadata": {},
   "outputs": [],
   "source": []
  }
 ],
 "metadata": {
  "kernelspec": {
   "display_name": "Python 3 (ipykernel)",
   "language": "python",
   "name": "python3"
  },
  "language_info": {
   "codemirror_mode": {
    "name": "ipython",
    "version": 3
   },
   "file_extension": ".py",
   "mimetype": "text/x-python",
   "name": "python",
   "nbconvert_exporter": "python",
   "pygments_lexer": "ipython3",
   "version": "3.9.12"
  }
 },
 "nbformat": 4,
 "nbformat_minor": 5
}
