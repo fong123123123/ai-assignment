{
 "cells": [
  {
   "cell_type": "code",
   "execution_count": 24,
   "id": "13dd4d03",
   "metadata": {},
   "outputs": [],
   "source": [
    "import pandas as pd\n",
    "import numpy as np\n",
    "import matplotlib.pyplot as plt\n",
    "import seaborn as sns\n",
    "from sklearn.preprocessing import StandardScaler\n",
    "from sklearn.model_selection import train_test_split\n",
    "from sklearn.svm import SVC\n",
    "import imblearn.under_sampling as samp\n",
    "from sklearn import preprocessing\n",
    "from sklearn.pipeline import make_pipeline\n",
    "from sklearn.metrics import precision_score, recall_score, f1_score, accuracy_score\n",
    "from sklearn import metrics\n",
    "from sklearn.metrics import confusion_matrix, classification_report\n",
    "\n",
    "\n",
    "from sklearn.model_selection import GridSearchCV"
   ]
  },
  {
   "cell_type": "code",
   "execution_count": 25,
   "id": "855a90d7",
   "metadata": {
    "scrolled": true
   },
   "outputs": [
    {
     "data": {
      "text/html": [
       "<div>\n",
       "<style scoped>\n",
       "    .dataframe tbody tr th:only-of-type {\n",
       "        vertical-align: middle;\n",
       "    }\n",
       "\n",
       "    .dataframe tbody tr th {\n",
       "        vertical-align: top;\n",
       "    }\n",
       "\n",
       "    .dataframe thead th {\n",
       "        text-align: right;\n",
       "    }\n",
       "</style>\n",
       "<table border=\"1\" class=\"dataframe\">\n",
       "  <thead>\n",
       "    <tr style=\"text-align: right;\">\n",
       "      <th></th>\n",
       "      <th>Time</th>\n",
       "      <th>V1</th>\n",
       "      <th>V2</th>\n",
       "      <th>V3</th>\n",
       "      <th>V4</th>\n",
       "      <th>V5</th>\n",
       "      <th>V6</th>\n",
       "      <th>V7</th>\n",
       "      <th>V8</th>\n",
       "      <th>V9</th>\n",
       "      <th>...</th>\n",
       "      <th>V21</th>\n",
       "      <th>V22</th>\n",
       "      <th>V23</th>\n",
       "      <th>V24</th>\n",
       "      <th>V25</th>\n",
       "      <th>V26</th>\n",
       "      <th>V27</th>\n",
       "      <th>V28</th>\n",
       "      <th>Amount</th>\n",
       "      <th>Class</th>\n",
       "    </tr>\n",
       "  </thead>\n",
       "  <tbody>\n",
       "    <tr>\n",
       "      <th>0</th>\n",
       "      <td>0.0</td>\n",
       "      <td>-1.359807</td>\n",
       "      <td>-0.072781</td>\n",
       "      <td>2.536347</td>\n",
       "      <td>1.378155</td>\n",
       "      <td>-0.338321</td>\n",
       "      <td>0.462388</td>\n",
       "      <td>0.239599</td>\n",
       "      <td>0.098698</td>\n",
       "      <td>0.363787</td>\n",
       "      <td>...</td>\n",
       "      <td>-0.018307</td>\n",
       "      <td>0.277838</td>\n",
       "      <td>-0.110474</td>\n",
       "      <td>0.066928</td>\n",
       "      <td>0.128539</td>\n",
       "      <td>-0.189115</td>\n",
       "      <td>0.133558</td>\n",
       "      <td>-0.021053</td>\n",
       "      <td>149.62</td>\n",
       "      <td>0</td>\n",
       "    </tr>\n",
       "    <tr>\n",
       "      <th>1</th>\n",
       "      <td>0.0</td>\n",
       "      <td>1.191857</td>\n",
       "      <td>0.266151</td>\n",
       "      <td>0.166480</td>\n",
       "      <td>0.448154</td>\n",
       "      <td>0.060018</td>\n",
       "      <td>-0.082361</td>\n",
       "      <td>-0.078803</td>\n",
       "      <td>0.085102</td>\n",
       "      <td>-0.255425</td>\n",
       "      <td>...</td>\n",
       "      <td>-0.225775</td>\n",
       "      <td>-0.638672</td>\n",
       "      <td>0.101288</td>\n",
       "      <td>-0.339846</td>\n",
       "      <td>0.167170</td>\n",
       "      <td>0.125895</td>\n",
       "      <td>-0.008983</td>\n",
       "      <td>0.014724</td>\n",
       "      <td>2.69</td>\n",
       "      <td>0</td>\n",
       "    </tr>\n",
       "    <tr>\n",
       "      <th>2</th>\n",
       "      <td>1.0</td>\n",
       "      <td>-1.358354</td>\n",
       "      <td>-1.340163</td>\n",
       "      <td>1.773209</td>\n",
       "      <td>0.379780</td>\n",
       "      <td>-0.503198</td>\n",
       "      <td>1.800499</td>\n",
       "      <td>0.791461</td>\n",
       "      <td>0.247676</td>\n",
       "      <td>-1.514654</td>\n",
       "      <td>...</td>\n",
       "      <td>0.247998</td>\n",
       "      <td>0.771679</td>\n",
       "      <td>0.909412</td>\n",
       "      <td>-0.689281</td>\n",
       "      <td>-0.327642</td>\n",
       "      <td>-0.139097</td>\n",
       "      <td>-0.055353</td>\n",
       "      <td>-0.059752</td>\n",
       "      <td>378.66</td>\n",
       "      <td>0</td>\n",
       "    </tr>\n",
       "    <tr>\n",
       "      <th>3</th>\n",
       "      <td>1.0</td>\n",
       "      <td>-0.966272</td>\n",
       "      <td>-0.185226</td>\n",
       "      <td>1.792993</td>\n",
       "      <td>-0.863291</td>\n",
       "      <td>-0.010309</td>\n",
       "      <td>1.247203</td>\n",
       "      <td>0.237609</td>\n",
       "      <td>0.377436</td>\n",
       "      <td>-1.387024</td>\n",
       "      <td>...</td>\n",
       "      <td>-0.108300</td>\n",
       "      <td>0.005274</td>\n",
       "      <td>-0.190321</td>\n",
       "      <td>-1.175575</td>\n",
       "      <td>0.647376</td>\n",
       "      <td>-0.221929</td>\n",
       "      <td>0.062723</td>\n",
       "      <td>0.061458</td>\n",
       "      <td>123.50</td>\n",
       "      <td>0</td>\n",
       "    </tr>\n",
       "    <tr>\n",
       "      <th>4</th>\n",
       "      <td>2.0</td>\n",
       "      <td>-1.158233</td>\n",
       "      <td>0.877737</td>\n",
       "      <td>1.548718</td>\n",
       "      <td>0.403034</td>\n",
       "      <td>-0.407193</td>\n",
       "      <td>0.095921</td>\n",
       "      <td>0.592941</td>\n",
       "      <td>-0.270533</td>\n",
       "      <td>0.817739</td>\n",
       "      <td>...</td>\n",
       "      <td>-0.009431</td>\n",
       "      <td>0.798278</td>\n",
       "      <td>-0.137458</td>\n",
       "      <td>0.141267</td>\n",
       "      <td>-0.206010</td>\n",
       "      <td>0.502292</td>\n",
       "      <td>0.219422</td>\n",
       "      <td>0.215153</td>\n",
       "      <td>69.99</td>\n",
       "      <td>0</td>\n",
       "    </tr>\n",
       "  </tbody>\n",
       "</table>\n",
       "<p>5 rows × 31 columns</p>\n",
       "</div>"
      ],
      "text/plain": [
       "   Time        V1        V2        V3        V4        V5        V6        V7  \\\n",
       "0   0.0 -1.359807 -0.072781  2.536347  1.378155 -0.338321  0.462388  0.239599   \n",
       "1   0.0  1.191857  0.266151  0.166480  0.448154  0.060018 -0.082361 -0.078803   \n",
       "2   1.0 -1.358354 -1.340163  1.773209  0.379780 -0.503198  1.800499  0.791461   \n",
       "3   1.0 -0.966272 -0.185226  1.792993 -0.863291 -0.010309  1.247203  0.237609   \n",
       "4   2.0 -1.158233  0.877737  1.548718  0.403034 -0.407193  0.095921  0.592941   \n",
       "\n",
       "         V8        V9  ...       V21       V22       V23       V24       V25  \\\n",
       "0  0.098698  0.363787  ... -0.018307  0.277838 -0.110474  0.066928  0.128539   \n",
       "1  0.085102 -0.255425  ... -0.225775 -0.638672  0.101288 -0.339846  0.167170   \n",
       "2  0.247676 -1.514654  ...  0.247998  0.771679  0.909412 -0.689281 -0.327642   \n",
       "3  0.377436 -1.387024  ... -0.108300  0.005274 -0.190321 -1.175575  0.647376   \n",
       "4 -0.270533  0.817739  ... -0.009431  0.798278 -0.137458  0.141267 -0.206010   \n",
       "\n",
       "        V26       V27       V28  Amount  Class  \n",
       "0 -0.189115  0.133558 -0.021053  149.62      0  \n",
       "1  0.125895 -0.008983  0.014724    2.69      0  \n",
       "2 -0.139097 -0.055353 -0.059752  378.66      0  \n",
       "3 -0.221929  0.062723  0.061458  123.50      0  \n",
       "4  0.502292  0.219422  0.215153   69.99      0  \n",
       "\n",
       "[5 rows x 31 columns]"
      ]
     },
     "execution_count": 25,
     "metadata": {},
     "output_type": "execute_result"
    }
   ],
   "source": [
    "df = pd.read_csv('creditcard.csv')\n",
    "\n",
    "df.head()\n"
   ]
  },
  {
   "cell_type": "code",
   "execution_count": 26,
   "id": "71f5b3e4",
   "metadata": {},
   "outputs": [
    {
     "data": {
      "text/plain": [
       "<bound method NDFrame.describe of             Time         V1         V2        V3        V4        V5  \\\n",
       "0            0.0  -1.359807  -0.072781  2.536347  1.378155 -0.338321   \n",
       "1            0.0   1.191857   0.266151  0.166480  0.448154  0.060018   \n",
       "2            1.0  -1.358354  -1.340163  1.773209  0.379780 -0.503198   \n",
       "3            1.0  -0.966272  -0.185226  1.792993 -0.863291 -0.010309   \n",
       "4            2.0  -1.158233   0.877737  1.548718  0.403034 -0.407193   \n",
       "...          ...        ...        ...       ...       ...       ...   \n",
       "284802  172786.0 -11.881118  10.071785 -9.834783 -2.066656 -5.364473   \n",
       "284803  172787.0  -0.732789  -0.055080  2.035030 -0.738589  0.868229   \n",
       "284804  172788.0   1.919565  -0.301254 -3.249640 -0.557828  2.630515   \n",
       "284805  172788.0  -0.240440   0.530483  0.702510  0.689799 -0.377961   \n",
       "284806  172792.0  -0.533413  -0.189733  0.703337 -0.506271 -0.012546   \n",
       "\n",
       "              V6        V7        V8        V9  ...       V21       V22  \\\n",
       "0       0.462388  0.239599  0.098698  0.363787  ... -0.018307  0.277838   \n",
       "1      -0.082361 -0.078803  0.085102 -0.255425  ... -0.225775 -0.638672   \n",
       "2       1.800499  0.791461  0.247676 -1.514654  ...  0.247998  0.771679   \n",
       "3       1.247203  0.237609  0.377436 -1.387024  ... -0.108300  0.005274   \n",
       "4       0.095921  0.592941 -0.270533  0.817739  ... -0.009431  0.798278   \n",
       "...          ...       ...       ...       ...  ...       ...       ...   \n",
       "284802 -2.606837 -4.918215  7.305334  1.914428  ...  0.213454  0.111864   \n",
       "284803  1.058415  0.024330  0.294869  0.584800  ...  0.214205  0.924384   \n",
       "284804  3.031260 -0.296827  0.708417  0.432454  ...  0.232045  0.578229   \n",
       "284805  0.623708 -0.686180  0.679145  0.392087  ...  0.265245  0.800049   \n",
       "284806 -0.649617  1.577006 -0.414650  0.486180  ...  0.261057  0.643078   \n",
       "\n",
       "             V23       V24       V25       V26       V27       V28  Amount  \\\n",
       "0      -0.110474  0.066928  0.128539 -0.189115  0.133558 -0.021053  149.62   \n",
       "1       0.101288 -0.339846  0.167170  0.125895 -0.008983  0.014724    2.69   \n",
       "2       0.909412 -0.689281 -0.327642 -0.139097 -0.055353 -0.059752  378.66   \n",
       "3      -0.190321 -1.175575  0.647376 -0.221929  0.062723  0.061458  123.50   \n",
       "4      -0.137458  0.141267 -0.206010  0.502292  0.219422  0.215153   69.99   \n",
       "...          ...       ...       ...       ...       ...       ...     ...   \n",
       "284802  1.014480 -0.509348  1.436807  0.250034  0.943651  0.823731    0.77   \n",
       "284803  0.012463 -1.016226 -0.606624 -0.395255  0.068472 -0.053527   24.79   \n",
       "284804 -0.037501  0.640134  0.265745 -0.087371  0.004455 -0.026561   67.88   \n",
       "284805 -0.163298  0.123205 -0.569159  0.546668  0.108821  0.104533   10.00   \n",
       "284806  0.376777  0.008797 -0.473649 -0.818267 -0.002415  0.013649  217.00   \n",
       "\n",
       "        Class  \n",
       "0           0  \n",
       "1           0  \n",
       "2           0  \n",
       "3           0  \n",
       "4           0  \n",
       "...       ...  \n",
       "284802      0  \n",
       "284803      0  \n",
       "284804      0  \n",
       "284805      0  \n",
       "284806      0  \n",
       "\n",
       "[284807 rows x 31 columns]>"
      ]
     },
     "execution_count": 26,
     "metadata": {},
     "output_type": "execute_result"
    }
   ],
   "source": [
    "df.describe"
   ]
  },
  {
   "cell_type": "code",
   "execution_count": 27,
   "id": "0d65abcc",
   "metadata": {},
   "outputs": [
    {
     "data": {
      "text/plain": [
       "Time      0\n",
       "V1        0\n",
       "V2        0\n",
       "V3        0\n",
       "V4        0\n",
       "V5        0\n",
       "V6        0\n",
       "V7        0\n",
       "V8        0\n",
       "V9        0\n",
       "V10       0\n",
       "V11       0\n",
       "V12       0\n",
       "V13       0\n",
       "V14       0\n",
       "V15       0\n",
       "V16       0\n",
       "V17       0\n",
       "V18       0\n",
       "V19       0\n",
       "V20       0\n",
       "V21       0\n",
       "V22       0\n",
       "V23       0\n",
       "V24       0\n",
       "V25       0\n",
       "V26       0\n",
       "V27       0\n",
       "V28       0\n",
       "Amount    0\n",
       "Class     0\n",
       "dtype: int64"
      ]
     },
     "execution_count": 27,
     "metadata": {},
     "output_type": "execute_result"
    }
   ],
   "source": [
    "df.isnull().sum() #find missing value"
   ]
  },
  {
   "cell_type": "code",
   "execution_count": 28,
   "id": "8835bafe",
   "metadata": {},
   "outputs": [
    {
     "name": "stdout",
     "output_type": "stream",
     "text": [
      "The number of fraud transactions are 492\n",
      "The number of safe transactions are 284315\n"
     ]
    }
   ],
   "source": [
    "fraud = df[df['Class'] == 1]\n",
    "safe = df[df['Class'] == 0]\n",
    "print('The number of fraud transactions are {}'.format(fraud.shape[0]))\n",
    "print('The number of safe transactions are {}'.format(safe.shape[0]))"
   ]
  },
  {
   "cell_type": "code",
   "execution_count": 29,
   "id": "48e2543c",
   "metadata": {},
   "outputs": [
    {
     "data": {
      "image/png": "[encoded data removed]",
      "text/plain": [
       "<Figure size 640x480 with 1 Axes>"
      ]
     },
     "metadata": {},
     "output_type": "display_data"
    }
   ],
   "source": [
    "plt.pie(df['Class'].value_counts().values, labels=[0, 1], autopct = '%1.1f%%')\n",
    "plt.show()"
   ]
  },
  {
   "cell_type": "code",
   "execution_count": 30,
   "id": "aecfa543",
   "metadata": {},
   "outputs": [],
   "source": [
    "inputs = df.drop(\"Class\", axis=\"columns\")\n",
    "targets = df.Class\n",
    "x_train, x_test, y_train, y_test = train_test_split(inputs, targets, test_size=0.2, random_state=1)"
   ]
  },
  {
   "cell_type": "code",
   "execution_count": 31,
   "id": "1a13df62",
   "metadata": {},
   "outputs": [
    {
     "data": {
      "text/html": [
       "<div>\n",
       "<style scoped>\n",
       "    .dataframe tbody tr th:only-of-type {\n",
       "        vertical-align: middle;\n",
       "    }\n",
       "\n",
       "    .dataframe tbody tr th {\n",
       "        vertical-align: top;\n",
       "    }\n",
       "\n",
       "    .dataframe thead th {\n",
       "        text-align: right;\n",
       "    }\n",
       "</style>\n",
       "<table border=\"1\" class=\"dataframe\">\n",
       "  <thead>\n",
       "    <tr style=\"text-align: right;\">\n",
       "      <th></th>\n",
       "      <th>Time</th>\n",
       "      <th>V1</th>\n",
       "      <th>V2</th>\n",
       "      <th>V3</th>\n",
       "      <th>V4</th>\n",
       "      <th>V5</th>\n",
       "      <th>V6</th>\n",
       "      <th>V7</th>\n",
       "      <th>V8</th>\n",
       "      <th>V9</th>\n",
       "      <th>...</th>\n",
       "      <th>V21</th>\n",
       "      <th>V22</th>\n",
       "      <th>V23</th>\n",
       "      <th>V24</th>\n",
       "      <th>V25</th>\n",
       "      <th>V26</th>\n",
       "      <th>V27</th>\n",
       "      <th>V28</th>\n",
       "      <th>Amount</th>\n",
       "      <th>Class</th>\n",
       "    </tr>\n",
       "  </thead>\n",
       "  <tbody>\n",
       "    <tr>\n",
       "      <th>13367</th>\n",
       "      <td>23610.0</td>\n",
       "      <td>1.387525</td>\n",
       "      <td>-0.547811</td>\n",
       "      <td>0.076422</td>\n",
       "      <td>-0.739334</td>\n",
       "      <td>-0.519887</td>\n",
       "      <td>-0.026007</td>\n",
       "      <td>-0.694673</td>\n",
       "      <td>-0.052100</td>\n",
       "      <td>0.378187</td>\n",
       "      <td>...</td>\n",
       "      <td>-0.658299</td>\n",
       "      <td>-1.307286</td>\n",
       "      <td>-0.013221</td>\n",
       "      <td>-0.912415</td>\n",
       "      <td>0.163178</td>\n",
       "      <td>0.920997</td>\n",
       "      <td>-0.096560</td>\n",
       "      <td>-0.014846</td>\n",
       "      <td>31.35</td>\n",
       "      <td>0</td>\n",
       "    </tr>\n",
       "    <tr>\n",
       "      <th>31788</th>\n",
       "      <td>36516.0</td>\n",
       "      <td>1.021179</td>\n",
       "      <td>-0.194114</td>\n",
       "      <td>1.207791</td>\n",
       "      <td>1.738369</td>\n",
       "      <td>-0.659824</td>\n",
       "      <td>0.631864</td>\n",
       "      <td>-0.434168</td>\n",
       "      <td>0.227422</td>\n",
       "      <td>1.116400</td>\n",
       "      <td>...</td>\n",
       "      <td>-0.386993</td>\n",
       "      <td>-0.664598</td>\n",
       "      <td>0.047173</td>\n",
       "      <td>0.106897</td>\n",
       "      <td>0.443932</td>\n",
       "      <td>-0.515898</td>\n",
       "      <td>0.091188</td>\n",
       "      <td>0.035959</td>\n",
       "      <td>41.29</td>\n",
       "      <td>0</td>\n",
       "    </tr>\n",
       "    <tr>\n",
       "      <th>84796</th>\n",
       "      <td>60465.0</td>\n",
       "      <td>-1.134453</td>\n",
       "      <td>0.636843</td>\n",
       "      <td>2.457241</td>\n",
       "      <td>1.317848</td>\n",
       "      <td>0.605755</td>\n",
       "      <td>0.143546</td>\n",
       "      <td>0.242076</td>\n",
       "      <td>0.371466</td>\n",
       "      <td>-1.315582</td>\n",
       "      <td>...</td>\n",
       "      <td>0.328508</td>\n",
       "      <td>0.683118</td>\n",
       "      <td>-0.114294</td>\n",
       "      <td>0.203942</td>\n",
       "      <td>0.035426</td>\n",
       "      <td>-0.090987</td>\n",
       "      <td>0.057247</td>\n",
       "      <td>0.102961</td>\n",
       "      <td>23.27</td>\n",
       "      <td>0</td>\n",
       "    </tr>\n",
       "    <tr>\n",
       "      <th>6243</th>\n",
       "      <td>7309.0</td>\n",
       "      <td>-0.851343</td>\n",
       "      <td>0.062000</td>\n",
       "      <td>1.406917</td>\n",
       "      <td>-1.669375</td>\n",
       "      <td>0.462639</td>\n",
       "      <td>-0.150804</td>\n",
       "      <td>0.403887</td>\n",
       "      <td>0.200460</td>\n",
       "      <td>1.968672</td>\n",
       "      <td>...</td>\n",
       "      <td>-0.400262</td>\n",
       "      <td>-1.096108</td>\n",
       "      <td>0.023423</td>\n",
       "      <td>-0.842077</td>\n",
       "      <td>-0.301144</td>\n",
       "      <td>0.932506</td>\n",
       "      <td>-0.088128</td>\n",
       "      <td>0.076487</td>\n",
       "      <td>45.00</td>\n",
       "      <td>0</td>\n",
       "    </tr>\n",
       "    <tr>\n",
       "      <th>162432</th>\n",
       "      <td>115111.0</td>\n",
       "      <td>-0.040314</td>\n",
       "      <td>0.545458</td>\n",
       "      <td>0.831788</td>\n",
       "      <td>-0.515723</td>\n",
       "      <td>0.128584</td>\n",
       "      <td>-0.112466</td>\n",
       "      <td>0.027800</td>\n",
       "      <td>0.222503</td>\n",
       "      <td>0.639397</td>\n",
       "      <td>...</td>\n",
       "      <td>0.102439</td>\n",
       "      <td>0.351638</td>\n",
       "      <td>0.180840</td>\n",
       "      <td>0.572238</td>\n",
       "      <td>-1.486248</td>\n",
       "      <td>0.147366</td>\n",
       "      <td>0.253324</td>\n",
       "      <td>0.291266</td>\n",
       "      <td>9.84</td>\n",
       "      <td>0</td>\n",
       "    </tr>\n",
       "  </tbody>\n",
       "</table>\n",
       "<p>5 rows × 31 columns</p>\n",
       "</div>"
      ],
      "text/plain": [
       "            Time        V1        V2        V3        V4        V5        V6  \\\n",
       "13367    23610.0  1.387525 -0.547811  0.076422 -0.739334 -0.519887 -0.026007   \n",
       "31788    36516.0  1.021179 -0.194114  1.207791  1.738369 -0.659824  0.631864   \n",
       "84796    60465.0 -1.134453  0.636843  2.457241  1.317848  0.605755  0.143546   \n",
       "6243      7309.0 -0.851343  0.062000  1.406917 -1.669375  0.462639 -0.150804   \n",
       "162432  115111.0 -0.040314  0.545458  0.831788 -0.515723  0.128584 -0.112466   \n",
       "\n",
       "              V7        V8        V9  ...       V21       V22       V23  \\\n",
       "13367  -0.694673 -0.052100  0.378187  ... -0.658299 -1.307286 -0.013221   \n",
       "31788  -0.434168  0.227422  1.116400  ... -0.386993 -0.664598  0.047173   \n",
       "84796   0.242076  0.371466 -1.315582  ...  0.328508  0.683118 -0.114294   \n",
       "6243    0.403887  0.200460  1.968672  ... -0.400262 -1.096108  0.023423   \n",
       "162432  0.027800  0.222503  0.639397  ...  0.102439  0.351638  0.180840   \n",
       "\n",
       "             V24       V25       V26       V27       V28  Amount  Class  \n",
       "13367  -0.912415  0.163178  0.920997 -0.096560 -0.014846   31.35      0  \n",
       "31788   0.106897  0.443932 -0.515898  0.091188  0.035959   41.29      0  \n",
       "84796   0.203942  0.035426 -0.090987  0.057247  0.102961   23.27      0  \n",
       "6243   -0.842077 -0.301144  0.932506 -0.088128  0.076487   45.00      0  \n",
       "162432  0.572238 -1.486248  0.147366  0.253324  0.291266    9.84      0  \n",
       "\n",
       "[5 rows x 31 columns]"
      ]
     },
     "execution_count": 31,
     "metadata": {},
     "output_type": "execute_result"
    }
   ],
   "source": [
    "train_data = pd.concat([x_train, y_train], axis=1)\n",
    "train_data.head()"
   ]
  },
  {
   "cell_type": "code",
   "execution_count": 32,
   "id": "5df18e8e",
   "metadata": {},
   "outputs": [],
   "source": [
    "legit_train = train_data[train_data.Class == 0]\n",
    "fraud_train = train_data[train_data.Class == 1]"
   ]
  },
  {
   "cell_type": "code",
   "execution_count": 33,
   "id": "0585e628",
   "metadata": {
    "scrolled": true
   },
   "outputs": [
    {
     "name": "stdout",
     "output_type": "stream",
     "text": [
      "(227440, 31) (405, 31)\n"
     ]
    }
   ],
   "source": [
    "print(legit_train.shape, fraud_train.shape)"
   ]
  },
  {
   "cell_type": "code",
   "execution_count": 34,
   "id": "1ef7e378",
   "metadata": {},
   "outputs": [
    {
     "data": {
      "text/plain": [
       "(405, 31)"
      ]
     },
     "execution_count": 34,
     "metadata": {},
     "output_type": "execute_result"
    }
   ],
   "source": [
    "legit_train = legit_train.sample(n=405)\n",
    "legit_train.shape"
   ]
  },
  {
   "cell_type": "code",
   "execution_count": 35,
   "id": "342e1cc1",
   "metadata": {},
   "outputs": [
    {
     "data": {
      "text/plain": [
       "(810, 31)"
      ]
     },
     "execution_count": 35,
     "metadata": {},
     "output_type": "execute_result"
    }
   ],
   "source": [
    "train_data = pd.concat([legit_train, fraud_train], axis=0)\n",
    "train_data.shape"
   ]
  },
  {
   "cell_type": "code",
   "execution_count": 36,
   "id": "bdcbf9ca",
   "metadata": {},
   "outputs": [],
   "source": [
    "x_train_undersampled = train_data.drop('Class', axis='columns')\n",
    "y_train_undersampled = train_data.Class"
   ]
  },
  {
   "cell_type": "code",
   "execution_count": 37,
   "id": "e8e7859a",
   "metadata": {
    "scrolled": true
   },
   "outputs": [
    {
     "data": {
      "image/png": "[encoded data removed]",
      "text/plain": [
       "<Figure size 640x480 with 1 Axes>"
      ]
     },
     "metadata": {},
     "output_type": "display_data"
    }
   ],
   "source": [
    "plt.pie(y_train_undersampled.value_counts().values, labels=[0, 1], autopct='%1.1f%%')\n",
    "plt.title(\"Distribution of Target Variable\")\n",
    "plt.show()"
   ]
  },
  {
   "cell_type": "markdown",
   "id": "6f2559a5",
   "metadata": {},
   "source": [
    "# Support Vector Machine"
   ]
  },
  {
   "cell_type": "code",
   "execution_count": 38,
   "id": "f2742d7c",
   "metadata": {},
   "outputs": [
    {
     "name": "stdout",
     "output_type": "stream",
     "text": [
      "              precision    recall  f1-score   support\n",
      "\n",
      "           0       1.00      0.98      0.99     56875\n",
      "           1       0.05      0.84      0.10        87\n",
      "\n",
      "    accuracy                           0.98     56962\n",
      "   macro avg       0.53      0.91      0.54     56962\n",
      "weighted avg       1.00      0.98      0.99     56962\n",
      "\n",
      "Accuracy: 97.66%\n",
      "Precision: 5.24%\n",
      "Recall: 83.91%\n",
      "F1-score: 9.87%\n"
     ]
    }
   ],
   "source": [
    "#svm_model = SVC(kernel='linear', class_weight='balanced')\n",
    "svm_model = make_pipeline(StandardScaler(), SVC(random_state=1))\n",
    "# svm_model.fit(x_train, y_train)\n",
    "svm_model.fit(x_train_undersampled, y_train_undersampled)\n",
    "# Make predictions on the testing set\n",
    "y_pred_svm = svm_model.predict(x_test)\n",
    "\n",
    "print(classification_report(y_test,y_pred_svm))\n",
    "svc_pre = precision_score(y_test, y_pred_svm) * 100\n",
    "svc_rec = recall_score(y_test, y_pred_svm)* 100\n",
    "svc_f1 = f1_score(y_test, y_pred_svm)* 100\n",
    "\n",
    "accuracy = accuracy_score(y_test, y_pred_svm) * 100\n",
    "print(f'Accuracy: {accuracy:.2f}%')\n",
    "print(f'Precision: {svc_pre:.2f}%')\n",
    "print(f'Recall: {svc_rec:.2f}%')\n",
    "print(f'F1-score: {svc_f1:.2f}%')"
   ]
  },
  {
   "cell_type": "code",
   "execution_count": 39,
   "id": "bad38155",
   "metadata": {},
   "outputs": [
    {
     "data": {
      "image/png": "[encoded data removed]",
      "text/plain": [
       "<Figure size 800x600 with 2 Axes>"
      ]
     },
     "metadata": {},
     "output_type": "display_data"
    }
   ],
   "source": [
    "# Calculate the confusion matrix\n",
    "conf_matrix = metrics.confusion_matrix(y_test, y_pred_svm)\n",
    "\n",
    "# Plot the confusion matrix as a heatmap\n",
    "plt.figure(figsize=(8, 6))\n",
    "sns.heatmap(conf_matrix, annot=True, fmt='d', cmap='mako')\n",
    "plt.xlabel('Predicted Labels')\n",
    "plt.ylabel('True Labels')\n",
    "plt.title('Confusion Matrix')\n",
    "plt.show()"
   ]
  },
  {
   "cell_type": "markdown",
   "id": "daf865f3",
   "metadata": {},
   "source": [
    "clf = SVC(probability=True)\n",
    "param_grid = {'C': [0.1, 1, 10, 100, 1000], \n",
    "              'gamma': [1, 0.1, 0.01, 0.001, 0.0001],\n",
    "              'kernel': ['rbf']} \n",
    " \n",
    "clf_grid = GridSearchCV(clf, param_grid, refit = True, verbose = 3)\n",
    "clf_grid.fit(x_test, y_test)\n",
    "print(clf_grid.best_params_) #To display the best parameter"
   ]
  },
  {
   "cell_type": "code",
   "execution_count": 40,
   "id": "fb962de3",
   "metadata": {},
   "outputs": [],
   "source": [
    "# clf = SVC(probability=True)\n",
    "# param_grid = {'C': [0.1, 1, 10, 100, 1000], \n",
    "#               'gamma': [1, 0.1, 0.01, 0.001, 0.0001],\n",
    "#               'kernel': ['rbf']} \n",
    " \n",
    "# clf_grid = GridSearchCV(clf, param_grid, refit = True, verbose = 3)\n",
    "# clf_grid.fit(x_test, y_test)\n",
    "# print(clf_grid.best_params_) #To display the best parameter"
   ]
  },
  {
   "cell_type": "code",
   "execution_count": 41,
   "id": "8d9f59d1",
   "metadata": {},
   "outputs": [],
   "source": [
    "# clf_best = SVC(C = 100, gamma = 0.0001, kernel = 'rbf') #Sub the best parameter when instantiate model\n",
    "# clf_best.fit(x_train_undersampled, y_train_undersampled)\n",
    "# clf_pred =  clf_best.predict(x_test)\n",
    "# clf_acc = (clf_best.score(x_test,y_test)) * 100\n",
    "# print('Support Vector Machine (SVM) accuracy : {:.2f}%'.format(clf_acc))"
   ]
  },
  {
   "cell_type": "code",
   "execution_count": 42,
   "id": "feb2b7ac",
   "metadata": {},
   "outputs": [
    {
     "name": "stderr",
     "output_type": "stream",
     "text": [
      "c:\\Users\\ASUS\\anaconda3\\lib\\site-packages\\sklearn\\base.py:420: UserWarning: X does not have valid feature names, but KNeighborsClassifier was fitted with feature names\n",
      "  warnings.warn(\n"
     ]
    },
    {
     "name": "stdout",
     "output_type": "stream",
     "text": [
      "Accuracy Score : 63.523%\n"
     ]
    }
   ],
   "source": [
    "from sklearn.neighbors import KNeighborsClassifier\n",
    "\n",
    "# consider the labels of the 5 nearest data points to a given input when making a prediction.\n",
    "knn = KNeighborsClassifier(n_neighbors = 1) \n",
    "\n",
    "# Fit model to data\n",
    "knn.fit(x_train_undersampled, y_train_undersampled)\n",
    "\n",
    "# Predict on new data\n",
    "X_test = np.array(x_test)\n",
    "knn_pred = knn.predict(X_test)\n",
    "\n",
    "# Evaluate performance\n",
    "knn_accuracyScore = (accuracy_score(y_test, knn_pred)) * 100\n",
    "print('Accuracy Score : {:.3f}%'.format(knn_accuracyScore))"
   ]
  },
  {
   "cell_type": "code",
   "execution_count": 43,
   "id": "3bbeea90",
   "metadata": {},
   "outputs": [
    {
     "name": "stderr",
     "output_type": "stream",
     "text": [
      "c:\\Users\\ASUS\\anaconda3\\lib\\site-packages\\sklearn\\base.py:420: UserWarning: X does not have valid feature names, but KNeighborsClassifier was fitted with feature names\n",
      "  warnings.warn(\n",
      "c:\\Users\\ASUS\\anaconda3\\lib\\site-packages\\sklearn\\base.py:420: UserWarning: X does not have valid feature names, but KNeighborsClassifier was fitted with feature names\n",
      "  warnings.warn(\n",
      "c:\\Users\\ASUS\\anaconda3\\lib\\site-packages\\sklearn\\base.py:420: UserWarning: X does not have valid feature names, but KNeighborsClassifier was fitted with feature names\n",
      "  warnings.warn(\n",
      "c:\\Users\\ASUS\\anaconda3\\lib\\site-packages\\sklearn\\base.py:420: UserWarning: X does not have valid feature names, but KNeighborsClassifier was fitted with feature names\n",
      "  warnings.warn(\n",
      "c:\\Users\\ASUS\\anaconda3\\lib\\site-packages\\sklearn\\base.py:420: UserWarning: X does not have valid feature names, but KNeighborsClassifier was fitted with feature names\n",
      "  warnings.warn(\n",
      "c:\\Users\\ASUS\\anaconda3\\lib\\site-packages\\sklearn\\base.py:420: UserWarning: X does not have valid feature names, but KNeighborsClassifier was fitted with feature names\n",
      "  warnings.warn(\n",
      "c:\\Users\\ASUS\\anaconda3\\lib\\site-packages\\sklearn\\base.py:420: UserWarning: X does not have valid feature names, but KNeighborsClassifier was fitted with feature names\n",
      "  warnings.warn(\n",
      "c:\\Users\\ASUS\\anaconda3\\lib\\site-packages\\sklearn\\base.py:420: UserWarning: X does not have valid feature names, but KNeighborsClassifier was fitted with feature names\n",
      "  warnings.warn(\n",
      "c:\\Users\\ASUS\\anaconda3\\lib\\site-packages\\sklearn\\base.py:420: UserWarning: X does not have valid feature names, but KNeighborsClassifier was fitted with feature names\n",
      "  warnings.warn(\n"
     ]
    },
    {
     "data": {
      "image/png": "[encoded data removed]",
      "text/plain": [
       "<Figure size 640x480 with 1 Axes>"
      ]
     },
     "metadata": {},
     "output_type": "display_data"
    }
   ],
   "source": [
    "# Try different values of k for KNN\n",
    "k_values = range(1, 10)  \n",
    "\n",
    "accuracies = []\n",
    "\n",
    "for k in k_values:\n",
    "    knn = KNeighborsClassifier(n_neighbors=k)\n",
    "    knn.fit(x_train_undersampled, y_train_undersampled)\n",
    "    y_pred = knn.predict(X_test)\n",
    "    accuracy = (accuracy_score(y_test, y_pred)) * 100\n",
    "    accuracies.append(accuracy)\n",
    "\n",
    "# Create a bar chart to compare accuracies for different k values\n",
    "plt.bar(k_values, accuracies)\n",
    "plt.xlabel('Number of Neighbors (k)')\n",
    "plt.ylabel('Accuracy (%)')\n",
    "plt.title('Accuracy for Different Values of k in KNN')\n",
    "\n",
    "# Add the numeric values on top of each bar\n",
    "for i, v in enumerate(accuracies):\n",
    "    plt.text(i + 1, v + 0.01, f'{v:.2f}', ha='center', va='bottom', fontsize=9)\n",
    "    \n",
    "plt.show()\n",
    "\n"
   ]
  },
  {
   "cell_type": "code",
   "execution_count": 44,
   "id": "ac5685b1",
   "metadata": {},
   "outputs": [
    {
     "data": {
      "image/png": "[encoded data removed]",
      "text/plain": [
       "<Figure size 800x600 with 2 Axes>"
      ]
     },
     "metadata": {},
     "output_type": "display_data"
    }
   ],
   "source": [
    "cm = confusion_matrix(y_test, knn_pred)\n",
    "\n",
    "# show the heatmap\n",
    "plt.figure(figsize=(8, 6))\n",
    "sns.heatmap(cm, annot=True, fmt=\"d\", cmap=\"YlGnBu\",\n",
    "            xticklabels=[\"Predicted 0\", \"Predicted 1\"],\n",
    "            yticklabels=[\"True 0\", \"True 1\"])\n",
    "plt.xlabel(\"Predicted\")\n",
    "plt.ylabel(\"True\")\n",
    "plt.title(\"Confusion Matrix\")\n",
    "plt.show()"
   ]
  }
 ],
 "metadata": {
  "kernelspec": {
   "display_name": "Python 3 (ipykernel)",
   "language": "python",
   "name": "python3"
  },
  "language_info": {
   "codemirror_mode": {
    "name": "ipython",
    "version": 3
   },
   "file_extension": ".py",
   "mimetype": "text/x-python",
   "name": "python",
   "nbconvert_exporter": "python",
   "pygments_lexer": "ipython3",
   "version": "3.10.9"
  }
 },
 "nbformat": 4,
 "nbformat_minor": 5
}
